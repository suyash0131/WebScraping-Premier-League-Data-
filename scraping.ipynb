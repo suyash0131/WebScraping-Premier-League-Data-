{
 "cells": [
  {
   "cell_type": "code",
   "execution_count": 1,
   "id": "cde824a0-a255-4912-b492-9491174de62c",
   "metadata": {},
   "outputs": [],
   "source": [
    "#importing the url"
   ]
  },
  {
   "cell_type": "code",
   "execution_count": 2,
   "id": "a974f5be-8dab-41e3-b109-5087b314f07e",
   "metadata": {},
   "outputs": [],
   "source": [
    "import requests"
   ]
  },
  {
   "cell_type": "code",
   "execution_count": 3,
   "id": "0b6c82a6-aa09-4267-9288-4942cc59ac31",
   "metadata": {},
   "outputs": [],
   "source": [
    "standings_url = \"https://fbref.com/en/comps/9/2023-2024/2023-2024-Premier-League-Stats\""
   ]
  },
  {
   "cell_type": "code",
   "execution_count": 4,
   "id": "ed2eeab9-fa28-482f-992a-d2337ed09c6e",
   "metadata": {},
   "outputs": [],
   "source": [
    "data = requests.get(standings_url)"
   ]
  },
  {
   "cell_type": "code",
   "execution_count": 5,
   "id": "915d704b-d31a-4c73-a4cd-786fa8893a87",
   "metadata": {},
   "outputs": [],
   "source": [
    "#parsing HTML links with BeautifulSoup"
   ]
  },
  {
   "cell_type": "code",
   "execution_count": 6,
   "id": "63e20159-a504-4ff4-bb23-89cdeaad7c08",
   "metadata": {},
   "outputs": [],
   "source": [
    "from bs4 import BeautifulSoup"
   ]
  },
  {
   "cell_type": "code",
   "execution_count": 7,
   "id": "21059985-37a3-41fb-9805-8b55311d18e7",
   "metadata": {},
   "outputs": [],
   "source": [
    "soup = BeautifulSoup(data.text)"
   ]
  },
  {
   "cell_type": "code",
   "execution_count": 8,
   "id": "9d26bc8f-6a77-4996-abb0-ed6a35be5495",
   "metadata": {},
   "outputs": [],
   "source": [
    "standings_table = soup.select('table.stats_table')[0]"
   ]
  },
  {
   "cell_type": "code",
   "execution_count": 9,
   "id": "8d7cb93f-eaf0-447d-80c3-053bc78ccbda",
   "metadata": {},
   "outputs": [
    {
     "data": {
      "text/plain": [
       "<table class=\"stats_table sortable min_width force_mobilize\" data-cols-to-freeze=\",2\" id=\"results2023-202491_overall\"> <caption>Premier League Table</caption> <colgroup><col/><col/><col/><col/><col/><col/><col/><col/><col/><col/><col/><col/><col/><col/><col/><col/><col/><col/><col/></colgroup> <thead> <tr> <th aria-label=\"Rank\" class=\"poptip sort_default_asc center\" data-stat=\"rank\" data-tip=\"&lt;strong&gt;Rank&lt;/strong&gt;&lt;br&gt;Squad finish in competition&lt;br&gt;Finish within the league or competition.&lt;br&gt;For knockout competitions may show final round reached.&lt;br&gt;Colors and arrows represent promotion/relegation or qualifiation for continental cups.&lt;br&gt;Trophy indicates team won league whether by playoffs or by leading the table.&lt;br&gt;Star indicates topped table in league USING another means of naming champion.\" scope=\"col\">Rk</th> <th aria-label=\"Squad\" class=\"poptip sort_default_asc center\" data-stat=\"team\" scope=\"col\">Squad</th> <th aria-label=\"Matches Played\" class=\"poptip center\" data-stat=\"games\" data-tip=\"&lt;strong&gt;Matches Played&lt;/strong&gt;&lt;br&gt;Matches Played by the player or squad\" scope=\"col\">MP</th> <th aria-label=\"Wins\" class=\"poptip center\" data-stat=\"wins\" data-tip=\"&lt;strong&gt;Wins&lt;/strong&gt;&lt;br&gt;Wins\" scope=\"col\">W</th> <th aria-label=\"Draws\" class=\"poptip center\" data-stat=\"ties\" data-tip=\"&lt;strong&gt;Draws&lt;/strong&gt;&lt;br&gt;Draws\" scope=\"col\">D</th> <th aria-label=\"Losses\" class=\"poptip center\" data-stat=\"losses\" data-tip=\"&lt;strong&gt;Losses&lt;/strong&gt;&lt;br&gt;Losses\" scope=\"col\">L</th> <th aria-label=\"Goals For\" class=\"poptip center\" data-stat=\"goals_for\" data-tip=\"&lt;strong&gt;Goals For&lt;/strong&gt;&lt;br&gt;Goals For\" scope=\"col\">GF</th> <th aria-label=\"Goals Against\" class=\"poptip center\" data-stat=\"goals_against\" data-tip=\"&lt;strong&gt;Goals Against&lt;/strong&gt;&lt;br&gt;Goals Against\" scope=\"col\">GA</th> <th aria-label=\"Goal Difference\" class=\"poptip center\" data-stat=\"goal_diff\" data-tip=\"&lt;strong&gt;Goal Difference&lt;/strong&gt;&lt;br&gt;Goal Difference\" scope=\"col\">GD</th> <th aria-label=\"Points\" class=\"poptip center\" data-stat=\"points\" data-tip=\"&lt;strong&gt;Points&lt;/strong&gt;&lt;br&gt;Most leagues are ordered by points.&lt;br&gt;Three for a win and one for a draw.\" scope=\"col\">Pts</th> <th aria-label=\"Points/Match\" class=\"poptip center\" data-stat=\"points_avg\" data-tip=\"&lt;strong&gt;Points/Match&lt;/strong&gt;&lt;br&gt;Points per Match Played\" scope=\"col\">Pts/MP</th> <th aria-label=\"xG\" class=\"poptip center\" data-filter=\"1\" data-name=\"xG\" data-stat=\"xg_for\" data-tip=\"&lt;strong&gt;Expected Goals&lt;/strong&gt;&lt;br&gt;xG totals include penalty kicks, but do not include penalty shootouts (unless otherwise noted).&lt;br&gt;Provided by Opta.&lt;br&gt;An underline indicates there is a match that is missing data, but will be updated when available.\" scope=\"col\">xG</th> <th aria-label=\"xG Allowed\" class=\"poptip sort_default_asc center\" data-stat=\"xg_against\" data-tip=\"&lt;strong&gt;xG Allowed&lt;/strong&gt;&lt;br&gt;&lt;strong&gt;Expected Goals Allowed&lt;/strong&gt;&lt;br&gt;xG totals include penalty kicks, but do not include penalty shootouts (unless otherwise noted).&lt;br&gt;Provided by Opta.&lt;br&gt;An underline indicates there is a match that is missing data, but will be updated when available.\" scope=\"col\">xGA</th> <th aria-label=\"xG Difference\" class=\"poptip center\" data-filter=\"1\" data-name=\"xG Difference\" data-stat=\"xg_diff\" data-tip=\"&lt;strong&gt;xG Difference&lt;/strong&gt;&lt;br&gt;&lt;strong&gt;Expected Goals Difference&lt;/strong&gt;&lt;br&gt;xG totals include penalty kicks, but do not include penalty shootouts (unless otherwise noted).&lt;br&gt;Provided by Opta.&lt;br&gt;An underline indicates there is a match that is missing data, but will be updated when available.\" scope=\"col\">xGD</th> <th aria-label=\"xG Difference/90\" class=\"poptip hide_non_quals center\" data-stat=\"xg_diff_per90\" data-tip=\"&lt;strong&gt;xG Difference/90&lt;/strong&gt;&lt;br&gt;&lt;strong&gt;Expected Goals Difference per 90 Minutes&lt;/strong&gt;&lt;br&gt;xG totals include penalty kicks, but do not include penalty shootouts (unless otherwise noted).&lt;br&gt;Provided by Opta.&lt;br&gt;An underline indicates there is a match that is missing data, but will be updated when available.\" scope=\"col\">xGD/90</th> <th aria-label=\"Attendance/Game\" class=\"poptip center\" data-stat=\"attendance_per_g\" data-tip=\"&lt;strong&gt;Attendance/Game&lt;/strong&gt;&lt;br&gt;Attendance per game during this season, only for home matches\" scope=\"col\">Attendance</th> <th aria-label=\"Top Team Scorer\" class=\"poptip center\" data-stat=\"top_team_scorers\" data-tip=\"Only includes league matches for that season\" scope=\"col\">Top Team Scorer</th> <th aria-label=\"Goalkeeper\" class=\"poptip center\" data-stat=\"top_keeper\" data-tip=\"Goalkeeper with the most minutes in league play\" scope=\"col\">Goalkeeper</th> <th aria-label=\"Notes\" class=\"poptip center\" data-stat=\"notes\" scope=\"col\">Notes</th> </tr> </thead> <tbody> <tr><th class=\"right qualifier qualification_indicator1\" csk=\"1\" data-stat=\"rank\" scope=\"row\">1</th><td class=\"left\" data-stat=\"team\"><img alt=\"Club Crest\" height=\"13\" itemscope=\"image\" src=\"https://cdn.ssref.net/req/202501101/tlogo/fb/mini.b8fd03ef.png\" style=\"vertical-align:text-top\" width=\"13\"/> <a href=\"/en/squads/b8fd03ef/2023-2024/Manchester-City-Stats\">Manchester City</a></td><td class=\"right\" data-stat=\"games\">38</td><td class=\"right\" data-stat=\"wins\">28</td><td class=\"right\" data-stat=\"ties\">7</td><td class=\"right\" data-stat=\"losses\">3</td><td class=\"right\" data-stat=\"goals_for\">96</td><td class=\"right\" data-stat=\"goals_against\">34</td><td class=\"right\" data-stat=\"goal_diff\">+62</td><td class=\"right\" data-stat=\"points\">91</td><td class=\"right\" data-stat=\"points_avg\">2.39</td><td class=\"right\" data-stat=\"xg_for\">80.5</td><td class=\"right\" data-stat=\"xg_against\">35.6</td><td class=\"right\" data-stat=\"xg_diff\">+44.9</td><td class=\"right\" data-stat=\"xg_diff_per90\">+1.18</td><td class=\"right\" csk=\"53012\" data-stat=\"attendance_per_g\">53,012</td><td class=\"right\" csk=\"27\" data-stat=\"top_team_scorers\"><a href=\"/en/players/1f44ac21/Erling-Haaland\">Erling Haaland</a> - <span>27</span></td><td class=\"right\" data-stat=\"top_keeper\"><a href=\"/en/players/3bb7b8b4/Ederson\">Ederson</a></td><td class=\"left\" data-stat=\"notes\">→ Champions League via league finish</td></tr> <tr><th class=\"right qualifier qualification_indicator1\" csk=\"2\" data-stat=\"rank\" scope=\"row\">2</th><td class=\"left\" data-stat=\"team\"><img alt=\"Club Crest\" height=\"13\" itemscope=\"image\" src=\"https://cdn.ssref.net/req/202501101/tlogo/fb/mini.18bb7c10.png\" style=\"vertical-align:text-top\" width=\"13\"/> <a href=\"/en/squads/18bb7c10/2023-2024/Arsenal-Stats\">Arsenal</a></td><td class=\"right\" data-stat=\"games\">38</td><td class=\"right\" data-stat=\"wins\">28</td><td class=\"right\" data-stat=\"ties\">5</td><td class=\"right\" data-stat=\"losses\">5</td><td class=\"right\" data-stat=\"goals_for\">91</td><td class=\"right\" data-stat=\"goals_against\">29</td><td class=\"right\" data-stat=\"goal_diff\">+62</td><td class=\"right\" data-stat=\"points\">89</td><td class=\"right\" data-stat=\"points_avg\">2.34</td><td class=\"right\" data-stat=\"xg_for\">76.1</td><td class=\"right\" data-stat=\"xg_against\">27.9</td><td class=\"right\" data-stat=\"xg_diff\">+48.2</td><td class=\"right\" data-stat=\"xg_diff_per90\">+1.27</td><td class=\"right\" csk=\"60236\" data-stat=\"attendance_per_g\">60,236</td><td class=\"right\" csk=\"16\" data-stat=\"top_team_scorers\"><a href=\"/en/players/bc7dc64d/Bukayo-Saka\">Bukayo Saka</a> - <span>16</span></td><td class=\"right\" data-stat=\"top_keeper\"><a href=\"/en/players/98ea5115/David-Raya\">David Raya</a></td><td class=\"left\" data-stat=\"notes\">→ Champions League via league finish</td></tr> <tr><th class=\"right qualifier qualification_indicator1\" csk=\"3\" data-stat=\"rank\" scope=\"row\">3</th><td class=\"left\" data-stat=\"team\"><img alt=\"Club Crest\" height=\"13\" itemscope=\"image\" src=\"https://cdn.ssref.net/req/202501101/tlogo/fb/mini.822bd0ba.png\" style=\"vertical-align:text-top\" width=\"13\"/> <a href=\"/en/squads/822bd0ba/2023-2024/Liverpool-Stats\">Liverpool</a></td><td class=\"right\" data-stat=\"games\">38</td><td class=\"right\" data-stat=\"wins\">24</td><td class=\"right\" data-stat=\"ties\">10</td><td class=\"right\" data-stat=\"losses\">4</td><td class=\"right\" data-stat=\"goals_for\">86</td><td class=\"right\" data-stat=\"goals_against\">41</td><td class=\"right\" data-stat=\"goal_diff\">+45</td><td class=\"right\" data-stat=\"points\">82</td><td class=\"right\" data-stat=\"points_avg\">2.16</td><td class=\"right\" data-stat=\"xg_for\">87.8</td><td class=\"right\" data-stat=\"xg_against\">45.7</td><td class=\"right\" data-stat=\"xg_diff\">+42.0</td><td class=\"right\" data-stat=\"xg_diff_per90\">+1.11</td><td class=\"right\" csk=\"55979\" data-stat=\"attendance_per_g\">55,979</td><td class=\"right\" csk=\"18\" data-stat=\"top_team_scorers\"><a href=\"/en/players/e342ad68/Mohamed-Salah\">Mohamed Salah</a> - <span>18</span></td><td class=\"right\" data-stat=\"top_keeper\"><a href=\"/en/players/7a2e46a8/Alisson\">Alisson</a></td><td class=\"left\" data-stat=\"notes\">→ Champions League via league finish</td></tr> <tr><th class=\"right qualifier qualification_indicator1\" csk=\"4\" data-stat=\"rank\" scope=\"row\">4</th><td class=\"left\" data-stat=\"team\"><img alt=\"Club Crest\" height=\"13\" itemscope=\"image\" src=\"https://cdn.ssref.net/req/202501101/tlogo/fb/mini.8602292d.png\" style=\"vertical-align:text-top\" width=\"13\"/> <a href=\"/en/squads/8602292d/2023-2024/Aston-Villa-Stats\">Aston Villa</a></td><td class=\"right\" data-stat=\"games\">38</td><td class=\"right\" data-stat=\"wins\">20</td><td class=\"right\" data-stat=\"ties\">8</td><td class=\"right\" data-stat=\"losses\">10</td><td class=\"right\" data-stat=\"goals_for\">76</td><td class=\"right\" data-stat=\"goals_against\">61</td><td class=\"right\" data-stat=\"goal_diff\">+15</td><td class=\"right\" data-stat=\"points\">68</td><td class=\"right\" data-stat=\"points_avg\">1.79</td><td class=\"right\" data-stat=\"xg_for\">63.3</td><td class=\"right\" data-stat=\"xg_against\">59.9</td><td class=\"right\" data-stat=\"xg_diff\">+3.4</td><td class=\"right\" data-stat=\"xg_diff_per90\">+0.09</td><td class=\"right\" csk=\"41858\" data-stat=\"attendance_per_g\">41,858</td><td class=\"right\" csk=\"19\" data-stat=\"top_team_scorers\"><a href=\"/en/players/aed3a70f/Ollie-Watkins\">Ollie Watkins</a> - <span>19</span></td><td class=\"right\" data-stat=\"top_keeper\"><a href=\"/en/players/7956236f/Emiliano-Martinez\">Emiliano Martínez</a></td><td class=\"left\" data-stat=\"notes\">→ Champions League via league finish</td></tr> <tr><th class=\"right qualifier qualification_indicator2\" csk=\"5\" data-stat=\"rank\" scope=\"row\">5</th><td class=\"left\" data-stat=\"team\"><img alt=\"Club Crest\" height=\"13\" itemscope=\"image\" src=\"https://cdn.ssref.net/req/202501101/tlogo/fb/mini.361ca564.png\" style=\"vertical-align:text-top\" width=\"13\"/> <a href=\"/en/squads/361ca564/2023-2024/Tottenham-Hotspur-Stats\">Tottenham</a></td><td class=\"right\" data-stat=\"games\">38</td><td class=\"right\" data-stat=\"wins\">20</td><td class=\"right\" data-stat=\"ties\">6</td><td class=\"right\" data-stat=\"losses\">12</td><td class=\"right\" data-stat=\"goals_for\">74</td><td class=\"right\" data-stat=\"goals_against\">61</td><td class=\"right\" data-stat=\"goal_diff\">+13</td><td class=\"right\" data-stat=\"points\">66</td><td class=\"right\" data-stat=\"points_avg\">1.74</td><td class=\"right\" data-stat=\"xg_for\">68.2</td><td class=\"right\" data-stat=\"xg_against\">63.4</td><td class=\"right\" data-stat=\"xg_diff\">+4.8</td><td class=\"right\" data-stat=\"xg_diff_per90\">+0.13</td><td class=\"right\" csk=\"61482\" data-stat=\"attendance_per_g\">61,482</td><td class=\"right\" csk=\"17\" data-stat=\"top_team_scorers\"><a href=\"/en/players/92e7e919/Son-Heung-min\">Son Heung-min</a> - <span>17</span></td><td class=\"right\" data-stat=\"top_keeper\"><a href=\"/en/players/77d6fd4d/Guglielmo-Vicario\">Guglielmo Vicario</a></td><td class=\"left\" data-stat=\"notes\">→ Europa League via league finish</td></tr> <tr><th class=\"right qualifier qualification_indicator3\" csk=\"6\" data-stat=\"rank\" scope=\"row\">6</th><td class=\"left\" data-stat=\"team\"><img alt=\"Club Crest\" height=\"13\" itemscope=\"image\" src=\"https://cdn.ssref.net/req/202501101/tlogo/fb/mini.cff3d9bb.png\" style=\"vertical-align:text-top\" width=\"13\"/> <a href=\"/en/squads/cff3d9bb/2023-2024/Chelsea-Stats\">Chelsea</a></td><td class=\"right\" data-stat=\"games\">38</td><td class=\"right\" data-stat=\"wins\">18</td><td class=\"right\" data-stat=\"ties\">9</td><td class=\"right\" data-stat=\"losses\">11</td><td class=\"right\" data-stat=\"goals_for\">77</td><td class=\"right\" data-stat=\"goals_against\">63</td><td class=\"right\" data-stat=\"goal_diff\">+14</td><td class=\"right\" data-stat=\"points\">63</td><td class=\"right\" data-stat=\"points_avg\">1.66</td><td class=\"right\" data-stat=\"xg_for\">74.5</td><td class=\"right\" data-stat=\"xg_against\">58.1</td><td class=\"right\" data-stat=\"xg_diff\">+16.4</td><td class=\"right\" data-stat=\"xg_diff_per90\">+0.43</td><td class=\"right\" csk=\"39524\" data-stat=\"attendance_per_g\">39,524</td><td class=\"right\" csk=\"22\" data-stat=\"top_team_scorers\"><a href=\"/en/players/dc7f8a28/Cole-Palmer\">Cole Palmer</a> - <span>22</span></td><td class=\"right\" data-stat=\"top_keeper\"><a href=\"/en/players/0cf321c8/Djordje-Petrovic\">Đorđe Petrović</a></td><td class=\"left\" data-stat=\"notes\">→ Europa Conference League via league finish</td></tr> <tr><th class=\"right\" csk=\"7\" data-stat=\"rank\" scope=\"row\">7</th><td class=\"left\" data-stat=\"team\"><img alt=\"Club Crest\" height=\"13\" itemscope=\"image\" src=\"https://cdn.ssref.net/req/202501101/tlogo/fb/mini.b2b47a98.png\" style=\"vertical-align:text-top\" width=\"13\"/> <a href=\"/en/squads/b2b47a98/2023-2024/Newcastle-United-Stats\">Newcastle Utd</a></td><td class=\"right\" data-stat=\"games\">38</td><td class=\"right\" data-stat=\"wins\">18</td><td class=\"right\" data-stat=\"ties\">6</td><td class=\"right\" data-stat=\"losses\">14</td><td class=\"right\" data-stat=\"goals_for\">85</td><td class=\"right\" data-stat=\"goals_against\">62</td><td class=\"right\" data-stat=\"goal_diff\">+23</td><td class=\"right\" data-stat=\"points\">60</td><td class=\"right\" data-stat=\"points_avg\">1.58</td><td class=\"right\" data-stat=\"xg_for\">76.0</td><td class=\"right\" data-stat=\"xg_against\">61.4</td><td class=\"right\" data-stat=\"xg_diff\">+14.6</td><td class=\"right\" data-stat=\"xg_diff_per90\">+0.38</td><td class=\"right\" csk=\"52125\" data-stat=\"attendance_per_g\">52,125</td><td class=\"right\" csk=\"21\" data-stat=\"top_team_scorers\"><a href=\"/en/players/8e92be30/Alexander-Isak\">Alexander Isak</a> - <span>21</span></td><td class=\"right\" data-stat=\"top_keeper\"><a href=\"/en/players/3a949a25/Martin-Dubravka\">Martin Dúbravka</a></td><td class=\"left iz\" data-stat=\"notes\"></td></tr> <tr><th class=\"right qualifier qualification_indicator2\" csk=\"8\" data-stat=\"rank\" scope=\"row\">8</th><td class=\"left\" data-stat=\"team\"><img alt=\"Club Crest\" height=\"13\" itemscope=\"image\" src=\"https://cdn.ssref.net/req/202501101/tlogo/fb/mini.19538871.png\" style=\"vertical-align:text-top\" width=\"13\"/> <a href=\"/en/squads/19538871/2023-2024/Manchester-United-Stats\">Manchester Utd</a></td><td class=\"right\" data-stat=\"games\">38</td><td class=\"right\" data-stat=\"wins\">18</td><td class=\"right\" data-stat=\"ties\">6</td><td class=\"right\" data-stat=\"losses\">14</td><td class=\"right\" data-stat=\"goals_for\">57</td><td class=\"right\" data-stat=\"goals_against\">58</td><td class=\"right\" data-stat=\"goal_diff\">-1</td><td class=\"right\" data-stat=\"points\">60</td><td class=\"right\" data-stat=\"points_avg\">1.58</td><td class=\"right\" data-stat=\"xg_for\">56.5</td><td class=\"right\" data-stat=\"xg_against\">68.9</td><td class=\"right\" data-stat=\"xg_diff\">-12.5</td><td class=\"right\" data-stat=\"xg_diff_per90\">-0.33</td><td class=\"right\" csk=\"73533\" data-stat=\"attendance_per_g\">73,533</td><td class=\"right\" csk=\"10\" data-stat=\"top_team_scorers\"><a href=\"/en/players/491a433d/Rasmus-Hojlund\">Rasmus Højlund</a>, <a href=\"/en/players/507c7bdf/Bruno-Fernandes\">Bruno Fernandes</a> - <span>10</span></td><td class=\"right\" data-stat=\"top_keeper\"><a href=\"/en/players/e9c0c1b2/Andre-Onana\">André Onana</a></td><td class=\"left\" data-stat=\"notes\">→ Europa League via cup win</td></tr> <tr><th class=\"right\" csk=\"9\" data-stat=\"rank\" scope=\"row\">9</th><td class=\"left\" data-stat=\"team\"><img alt=\"Club Crest\" height=\"13\" itemscope=\"image\" src=\"https://cdn.ssref.net/req/202501101/tlogo/fb/mini.7c21e445.png\" style=\"vertical-align:text-top\" width=\"13\"/> <a href=\"/en/squads/7c21e445/2023-2024/West-Ham-United-Stats\">West Ham</a></td><td class=\"right\" data-stat=\"games\">38</td><td class=\"right\" data-stat=\"wins\">14</td><td class=\"right\" data-stat=\"ties\">10</td><td class=\"right\" data-stat=\"losses\">14</td><td class=\"right\" data-stat=\"goals_for\">60</td><td class=\"right\" data-stat=\"goals_against\">74</td><td class=\"right\" data-stat=\"goal_diff\">-14</td><td class=\"right\" data-stat=\"points\">52</td><td class=\"right\" data-stat=\"points_avg\">1.37</td><td class=\"right\" data-stat=\"xg_for\">52.3</td><td class=\"right\" data-stat=\"xg_against\">71.1</td><td class=\"right\" data-stat=\"xg_diff\">-18.8</td><td class=\"right\" data-stat=\"xg_diff_per90\">-0.49</td><td class=\"right\" csk=\"62567\" data-stat=\"attendance_per_g\">62,567</td><td class=\"right\" csk=\"16\" data-stat=\"top_team_scorers\"><a href=\"/en/players/79c84d1c/Jarrod-Bowen\">Jarrod Bowen</a> - <span>16</span></td><td class=\"right\" data-stat=\"top_keeper\"><a href=\"/en/players/2f965a72/Alphonse-Areola\">Alphonse Areola</a></td><td class=\"left iz\" data-stat=\"notes\"></td></tr> <tr><th class=\"right\" csk=\"10\" data-stat=\"rank\" scope=\"row\">10</th><td class=\"left\" data-stat=\"team\"><img alt=\"Club Crest\" height=\"13\" itemscope=\"image\" src=\"https://cdn.ssref.net/req/202501101/tlogo/fb/mini.47c64c55.png\" style=\"vertical-align:text-top\" width=\"13\"/> <a href=\"/en/squads/47c64c55/2023-2024/Crystal-Palace-Stats\">Crystal Palace</a></td><td class=\"right\" data-stat=\"games\">38</td><td class=\"right\" data-stat=\"wins\">13</td><td class=\"right\" data-stat=\"ties\">10</td><td class=\"right\" data-stat=\"losses\">15</td><td class=\"right\" data-stat=\"goals_for\">57</td><td class=\"right\" data-stat=\"goals_against\">58</td><td class=\"right\" data-stat=\"goal_diff\">-1</td><td class=\"right\" data-stat=\"points\">49</td><td class=\"right\" data-stat=\"points_avg\">1.29</td><td class=\"right\" data-stat=\"xg_for\">48.6</td><td class=\"right\" data-stat=\"xg_against\">52.0</td><td class=\"right\" data-stat=\"xg_diff\">-3.4</td><td class=\"right\" data-stat=\"xg_diff_per90\">-0.09</td><td class=\"right\" csk=\"24932\" data-stat=\"attendance_per_g\">24,932</td><td class=\"right\" csk=\"16\" data-stat=\"top_team_scorers\"><a href=\"/en/players/50e6dc35/Jean-Philippe-Mateta\">Jean-Philippe Mateta</a> - <span>16</span></td><td class=\"right\" data-stat=\"top_keeper\"><a href=\"/en/players/9e5708be/Sam-Johnstone\">Sam Johnstone</a></td><td class=\"left iz\" data-stat=\"notes\"></td></tr> <tr><th class=\"right\" csk=\"11\" data-stat=\"rank\" scope=\"row\">11</th><td class=\"left\" data-stat=\"team\"><img alt=\"Club Crest\" height=\"13\" itemscope=\"image\" src=\"https://cdn.ssref.net/req/202501101/tlogo/fb/mini.d07537b9.png\" style=\"vertical-align:text-top\" width=\"13\"/> <a href=\"/en/squads/d07537b9/2023-2024/Brighton-and-Hove-Albion-Stats\">Brighton</a></td><td class=\"right\" data-stat=\"games\">38</td><td class=\"right\" data-stat=\"wins\">12</td><td class=\"right\" data-stat=\"ties\">12</td><td class=\"right\" data-stat=\"losses\">14</td><td class=\"right\" data-stat=\"goals_for\">55</td><td class=\"right\" data-stat=\"goals_against\">62</td><td class=\"right\" data-stat=\"goal_diff\">-7</td><td class=\"right\" data-stat=\"points\">48</td><td class=\"right\" data-stat=\"points_avg\">1.26</td><td class=\"right\" data-stat=\"xg_for\">56.8</td><td class=\"right\" data-stat=\"xg_against\">55.4</td><td class=\"right\" data-stat=\"xg_diff\">+1.4</td><td class=\"right\" data-stat=\"xg_diff_per90\">+0.04</td><td class=\"right\" csk=\"32638\" data-stat=\"attendance_per_g\">32,638</td><td class=\"right\" csk=\"9\" data-stat=\"top_team_scorers\"><a href=\"/en/players/e8832875/Joao-Pedro\">João Pedro</a> - <span>9</span></td><td class=\"right\" data-stat=\"top_keeper\"><a href=\"/en/players/cf134113/Bart-Verbruggen\">Bart Verbruggen</a></td><td class=\"left iz\" data-stat=\"notes\"></td></tr> <tr><th class=\"right\" csk=\"12\" data-stat=\"rank\" scope=\"row\">12</th><td class=\"left\" data-stat=\"team\"><img alt=\"Club Crest\" height=\"13\" itemscope=\"image\" src=\"https://cdn.ssref.net/req/202501101/tlogo/fb/mini.4ba7cbea.png\" style=\"vertical-align:text-top\" width=\"13\"/> <a href=\"/en/squads/4ba7cbea/2023-2024/Bournemouth-Stats\">Bournemouth</a></td><td class=\"right\" data-stat=\"games\">38</td><td class=\"right\" data-stat=\"wins\">13</td><td class=\"right\" data-stat=\"ties\">9</td><td class=\"right\" data-stat=\"losses\">16</td><td class=\"right\" data-stat=\"goals_for\">54</td><td class=\"right\" data-stat=\"goals_against\">67</td><td class=\"right\" data-stat=\"goal_diff\">-13</td><td class=\"right\" data-stat=\"points\">48</td><td class=\"right\" data-stat=\"points_avg\">1.26</td><td class=\"right\" data-stat=\"xg_for\">55.9</td><td class=\"right\" data-stat=\"xg_against\">58.1</td><td class=\"right\" data-stat=\"xg_diff\">-2.2</td><td class=\"right\" data-stat=\"xg_diff_per90\">-0.06</td><td class=\"right\" csk=\"11103\" data-stat=\"attendance_per_g\">11,103</td><td class=\"right\" csk=\"19\" data-stat=\"top_team_scorers\"><a href=\"/en/players/e77dc3b2/Dominic-Solanke\">Dominic Solanke</a> - <span>19</span></td><td class=\"right\" data-stat=\"top_keeper\"><a href=\"/en/players/a9dc785c/Neto\">Neto</a></td><td class=\"left iz\" data-stat=\"notes\"></td></tr> <tr><th class=\"right\" csk=\"13\" data-stat=\"rank\" scope=\"row\">13</th><td class=\"left\" data-stat=\"team\"><img alt=\"Club Crest\" height=\"13\" itemscope=\"image\" src=\"https://cdn.ssref.net/req/202501101/tlogo/fb/mini.fd962109.png\" style=\"vertical-align:text-top\" width=\"13\"/> <a href=\"/en/squads/fd962109/2023-2024/Fulham-Stats\">Fulham</a></td><td class=\"right\" data-stat=\"games\">38</td><td class=\"right\" data-stat=\"wins\">13</td><td class=\"right\" data-stat=\"ties\">8</td><td class=\"right\" data-stat=\"losses\">17</td><td class=\"right\" data-stat=\"goals_for\">55</td><td class=\"right\" data-stat=\"goals_against\">61</td><td class=\"right\" data-stat=\"goal_diff\">-6</td><td class=\"right\" data-stat=\"points\">47</td><td class=\"right\" data-stat=\"points_avg\">1.24</td><td class=\"right\" data-stat=\"xg_for\">50.8</td><td class=\"right\" data-stat=\"xg_against\">62.9</td><td class=\"right\" data-stat=\"xg_diff\">-12.1</td><td class=\"right\" data-stat=\"xg_diff_per90\">-0.32</td><td class=\"right\" csk=\"24302\" data-stat=\"attendance_per_g\">24,302</td><td class=\"right\" csk=\"9\" data-stat=\"top_team_scorers\"><a href=\"/en/players/a755db8c/Rodrigo-Muniz\">Rodrigo Muniz</a> - <span>9</span></td><td class=\"right\" data-stat=\"top_keeper\"><a href=\"/en/players/2628fd2b/Bernd-Leno\">Bernd Leno</a></td><td class=\"left iz\" data-stat=\"notes\"></td></tr> <tr><th class=\"right\" csk=\"14\" data-stat=\"rank\" scope=\"row\">14</th><td class=\"left\" data-stat=\"team\"><img alt=\"Club Crest\" height=\"13\" itemscope=\"image\" src=\"https://cdn.ssref.net/req/202501101/tlogo/fb/mini.8cec06e1.png\" style=\"vertical-align:text-top\" width=\"13\"/> <a href=\"/en/squads/8cec06e1/2023-2024/Wolverhampton-Wanderers-Stats\">Wolves</a></td><td class=\"right\" data-stat=\"games\">38</td><td class=\"right\" data-stat=\"wins\">13</td><td class=\"right\" data-stat=\"ties\">7</td><td class=\"right\" data-stat=\"losses\">18</td><td class=\"right\" data-stat=\"goals_for\">50</td><td class=\"right\" data-stat=\"goals_against\">65</td><td class=\"right\" data-stat=\"goal_diff\">-15</td><td class=\"right\" data-stat=\"points\">46</td><td class=\"right\" data-stat=\"points_avg\">1.21</td><td class=\"right\" data-stat=\"xg_for\">46.7</td><td class=\"right\" data-stat=\"xg_against\">67.7</td><td class=\"right\" data-stat=\"xg_diff\">-21.0</td><td class=\"right\" data-stat=\"xg_diff_per90\">-0.55</td><td class=\"right\" csk=\"31029\" data-stat=\"attendance_per_g\">31,029</td><td class=\"right\" csk=\"12\" data-stat=\"top_team_scorers\"><a href=\"/en/players/169fd162/Hwang-Hee-chan\">Hwang Hee-chan</a>, <a href=\"/en/players/dc62b55d/Matheus-Cunha\">Matheus Cunha</a> - <span>12</span></td><td class=\"right\" data-stat=\"top_keeper\"><a href=\"/en/players/903b6e8b/Jose-Sa\">José Sá</a></td><td class=\"left iz\" data-stat=\"notes\"></td></tr> <tr><th class=\"right\" csk=\"15\" data-stat=\"rank\" scope=\"row\">15</th><td class=\"left\" data-stat=\"team\"><img alt=\"Club Crest\" height=\"13\" itemscope=\"image\" src=\"https://cdn.ssref.net/req/202501101/tlogo/fb/mini.d3fd31cc.png\" style=\"vertical-align:text-top\" width=\"13\"/> <a href=\"/en/squads/d3fd31cc/2023-2024/Everton-Stats\">Everton</a></td><td class=\"right\" data-stat=\"games\">38</td><td class=\"right\" data-stat=\"wins\">13</td><td class=\"right\" data-stat=\"ties\">9</td><td class=\"right\" data-stat=\"losses\">16</td><td class=\"right\" data-stat=\"goals_for\">40</td><td class=\"right\" data-stat=\"goals_against\">51</td><td class=\"right\" data-stat=\"goal_diff\">-11</td><td class=\"right\" data-stat=\"points\">42</td><td class=\"right\" data-stat=\"points_avg\">1.11</td><td class=\"right\" data-stat=\"xg_for\">54.0</td><td class=\"right\" data-stat=\"xg_against\">55.2</td><td class=\"right\" data-stat=\"xg_diff\">-1.2</td><td class=\"right\" data-stat=\"xg_diff_per90\">-0.03</td><td class=\"right\" csk=\"39042\" data-stat=\"attendance_per_g\">39,042</td><td class=\"right\" csk=\"7\" data-stat=\"top_team_scorers\"><a href=\"/en/players/02b29014/Abdoulaye-Doucoure\">Abdoulaye Doucouré</a>, <a href=\"/en/players/59e6e5bf/Dominic-Calvert-Lewin\">Dominic Calvert-Lewin</a> - <span>7</span></td><td class=\"right\" data-stat=\"top_keeper\"><a href=\"/en/players/4806ec67/Jordan-Pickford\">Jordan Pickford</a></td><td class=\"left\" data-stat=\"notes\">6-point deduction <sup><span class=\"tooltip\" tip=\"Everton were deducted 6 points for breaching financial regulations.\">1</span></sup></td></tr> <tr><th class=\"right\" csk=\"16\" data-stat=\"rank\" scope=\"row\">16</th><td class=\"left\" data-stat=\"team\"><img alt=\"Club Crest\" height=\"13\" itemscope=\"image\" src=\"https://cdn.ssref.net/req/202501101/tlogo/fb/mini.cd051869.png\" style=\"vertical-align:text-top\" width=\"13\"/> <a href=\"/en/squads/cd051869/2023-2024/Brentford-Stats\">Brentford</a></td><td class=\"right\" data-stat=\"games\">38</td><td class=\"right\" data-stat=\"wins\">10</td><td class=\"right\" data-stat=\"ties\">9</td><td class=\"right\" data-stat=\"losses\">19</td><td class=\"right\" data-stat=\"goals_for\">56</td><td class=\"right\" data-stat=\"goals_against\">65</td><td class=\"right\" data-stat=\"goal_diff\">-9</td><td class=\"right\" data-stat=\"points\">39</td><td class=\"right\" data-stat=\"points_avg\">1.03</td><td class=\"right\" data-stat=\"xg_for\">58.2</td><td class=\"right\" data-stat=\"xg_against\">56.0</td><td class=\"right\" data-stat=\"xg_diff\">+2.2</td><td class=\"right\" data-stat=\"xg_diff_per90\">+0.06</td><td class=\"right\" csk=\"17082\" data-stat=\"attendance_per_g\">17,082</td><td class=\"right\" csk=\"12\" data-stat=\"top_team_scorers\"><a href=\"/en/players/2500cef9/Yoane-Wissa\">Yoane Wissa</a> - <span>12</span></td><td class=\"right\" data-stat=\"top_keeper\"><a href=\"/en/players/a92ab7be/Mark-Flekken\">Mark Flekken</a></td><td class=\"left iz\" data-stat=\"notes\"></td></tr> <tr><th class=\"right\" csk=\"17\" data-stat=\"rank\" scope=\"row\">17</th><td class=\"left\" data-stat=\"team\"><img alt=\"Club Crest\" height=\"13\" itemscope=\"image\" src=\"https://cdn.ssref.net/req/202501101/tlogo/fb/mini.e4a775cb.png\" style=\"vertical-align:text-top\" width=\"13\"/> <a href=\"/en/squads/e4a775cb/2023-2024/Nottingham-Forest-Stats\">Nott'ham Forest</a></td><td class=\"right\" data-stat=\"games\">38</td><td class=\"right\" data-stat=\"wins\">9</td><td class=\"right\" data-stat=\"ties\">9</td><td class=\"right\" data-stat=\"losses\">20</td><td class=\"right\" data-stat=\"goals_for\">49</td><td class=\"right\" data-stat=\"goals_against\">67</td><td class=\"right\" data-stat=\"goal_diff\">-18</td><td class=\"right\" data-stat=\"points\">32</td><td class=\"right\" data-stat=\"points_avg\">0.84</td><td class=\"right\" data-stat=\"xg_for\">49.9</td><td class=\"right\" data-stat=\"xg_against\">53.3</td><td class=\"right\" data-stat=\"xg_diff\">-3.4</td><td class=\"right\" data-stat=\"xg_diff_per90\">-0.09</td><td class=\"right\" csk=\"29386\" data-stat=\"attendance_per_g\">29,386</td><td class=\"right\" csk=\"14\" data-stat=\"top_team_scorers\"><a href=\"/en/players/4e9a0555/Chris-Wood\">Chris Wood</a> - <span>14</span></td><td class=\"right\" data-stat=\"top_keeper\"><a href=\"/en/players/4a51ba65/Matt-Turner\">Matt Turner</a></td><td class=\"left\" data-stat=\"notes\">4-point deduction <sup><span class=\"tooltip\" tip=\"Nottingham Forest were deducted 4 points for breaching financial regulations.\">2</span></sup></td></tr> <tr><th class=\"right relegate qualification_indicator\" csk=\"18\" data-stat=\"rank\" scope=\"row\">18</th><td class=\"left\" data-stat=\"team\"><img alt=\"Club Crest\" height=\"13\" itemscope=\"image\" src=\"https://cdn.ssref.net/req/202501101/tlogo/fb/mini.e297cd13.png\" style=\"vertical-align:text-top\" width=\"13\"/> <a href=\"/en/squads/e297cd13/2023-2024/Luton-Town-Stats\">Luton Town</a></td><td class=\"right\" data-stat=\"games\">38</td><td class=\"right\" data-stat=\"wins\">6</td><td class=\"right\" data-stat=\"ties\">8</td><td class=\"right\" data-stat=\"losses\">24</td><td class=\"right\" data-stat=\"goals_for\">52</td><td class=\"right\" data-stat=\"goals_against\">85</td><td class=\"right\" data-stat=\"goal_diff\">-33</td><td class=\"right\" data-stat=\"points\">26</td><td class=\"right\" data-stat=\"points_avg\">0.68</td><td class=\"right\" data-stat=\"xg_for\">42.4</td><td class=\"right\" data-stat=\"xg_against\">78.0</td><td class=\"right\" data-stat=\"xg_diff\">-35.5</td><td class=\"right\" data-stat=\"xg_diff_per90\">-0.94</td><td class=\"right\" csk=\"11240\" data-stat=\"attendance_per_g\">11,240</td><td class=\"right\" csk=\"11\" data-stat=\"top_team_scorers\"><a href=\"/en/players/2da834f1/Carlton-Morris\">Carlton Morris</a> - <span>11</span></td><td class=\"right\" data-stat=\"top_keeper\"><a href=\"/en/players/1caa93a5/Thomas-Kaminski\">Thomas Kaminski</a></td><td class=\"left\" data-stat=\"notes\">Relegated</td></tr> <tr><th class=\"right relegate qualification_indicator\" csk=\"19\" data-stat=\"rank\" scope=\"row\">19</th><td class=\"left\" data-stat=\"team\"><img alt=\"Club Crest\" height=\"13\" itemscope=\"image\" src=\"https://cdn.ssref.net/req/202501101/tlogo/fb/mini.943e8050.png\" style=\"vertical-align:text-top\" width=\"13\"/> <a href=\"/en/squads/943e8050/2023-2024/Burnley-Stats\">Burnley</a></td><td class=\"right\" data-stat=\"games\">38</td><td class=\"right\" data-stat=\"wins\">5</td><td class=\"right\" data-stat=\"ties\">9</td><td class=\"right\" data-stat=\"losses\">24</td><td class=\"right\" data-stat=\"goals_for\">41</td><td class=\"right\" data-stat=\"goals_against\">78</td><td class=\"right\" data-stat=\"goal_diff\">-37</td><td class=\"right\" data-stat=\"points\">24</td><td class=\"right\" data-stat=\"points_avg\">0.63</td><td class=\"right\" data-stat=\"xg_for\">40.6</td><td class=\"right\" data-stat=\"xg_against\">70.4</td><td class=\"right\" data-stat=\"xg_diff\">-29.7</td><td class=\"right\" data-stat=\"xg_diff_per90\">-0.78</td><td class=\"right\" csk=\"21184\" data-stat=\"attendance_per_g\">21,184</td><td class=\"right\" csk=\"6\" data-stat=\"top_team_scorers\"><a href=\"/en/players/4e204552/Jacob-Bruun-Larsen\">Jacob Bruun Larsen</a> - <span>6</span></td><td class=\"right\" data-stat=\"top_keeper\"><a href=\"/en/players/259fea27/James-Trafford\">James Trafford</a></td><td class=\"left\" data-stat=\"notes\">Relegated</td></tr> <tr><th class=\"right relegate qualification_indicator\" csk=\"20\" data-stat=\"rank\" scope=\"row\">20</th><td class=\"left\" data-stat=\"team\"><img alt=\"Club Crest\" height=\"13\" itemscope=\"image\" src=\"https://cdn.ssref.net/req/202501101/tlogo/fb/mini.1df6b87e.png\" style=\"vertical-align:text-top\" width=\"13\"/> <a href=\"/en/squads/1df6b87e/2023-2024/Sheffield-United-Stats\">Sheffield Utd</a></td><td class=\"right\" data-stat=\"games\">38</td><td class=\"right\" data-stat=\"wins\">3</td><td class=\"right\" data-stat=\"ties\">7</td><td class=\"right\" data-stat=\"losses\">28</td><td class=\"right\" data-stat=\"goals_for\">35</td><td class=\"right\" data-stat=\"goals_against\">104</td><td class=\"right\" data-stat=\"goal_diff\">-69</td><td class=\"right\" data-stat=\"points\">16</td><td class=\"right\" data-stat=\"points_avg\">0.42</td><td class=\"right\" data-stat=\"xg_for\">38.3</td><td class=\"right\" data-stat=\"xg_against\">76.6</td><td class=\"right\" data-stat=\"xg_diff\">-38.3</td><td class=\"right\" data-stat=\"xg_diff_per90\">-1.01</td><td class=\"right\" csk=\"30011\" data-stat=\"attendance_per_g\">30,011</td><td class=\"right\" csk=\"6\" data-stat=\"top_team_scorers\"><a href=\"/en/players/78b8ac63/Oliver-McBurnie\">Oliver McBurnie</a>, <a href=\"/en/players/57827369/Ben-Brereton\">Ben Brereton</a> - <span>6</span></td><td class=\"right\" data-stat=\"top_keeper\"><a href=\"/en/players/96cf7b61/Wes-Foderingham\">Wes Foderingham</a></td><td class=\"left\" data-stat=\"notes\">Relegated</td></tr> </tbody> </table>"
      ]
     },
     "execution_count": 9,
     "metadata": {},
     "output_type": "execute_result"
    }
   ],
   "source": [
    "standings_table"
   ]
  },
  {
   "cell_type": "code",
   "execution_count": 10,
   "id": "56d05e0b-bee8-4c47-ada7-d5304e562570",
   "metadata": {},
   "outputs": [],
   "source": [
    "links = standings_table.find_all('a')"
   ]
  },
  {
   "cell_type": "code",
   "execution_count": 11,
   "id": "a57fd5c9-a06c-4a5a-abc7-debbb9d409ee",
   "metadata": {},
   "outputs": [],
   "source": [
    "#select uses CSS selectors whereas find_all only finds tags"
   ]
  },
  {
   "cell_type": "code",
   "execution_count": 12,
   "id": "06abfa5f-971f-4e51-ac32-9dd0f52064f2",
   "metadata": {},
   "outputs": [],
   "source": [
    "links = [l.get(\"href\") for l in links]"
   ]
  },
  {
   "cell_type": "code",
   "execution_count": 13,
   "id": "e18fae01-a436-4c9d-8fd8-7e135fa478e9",
   "metadata": {},
   "outputs": [],
   "source": [
    "links = [l for l in links if '/squads' in l]"
   ]
  },
  {
   "cell_type": "code",
   "execution_count": 14,
   "id": "7491a20d-5967-466b-a3de-0d7d729944d2",
   "metadata": {},
   "outputs": [],
   "source": [
    "team_urls = [f\"https://fbref.com{l}\" for l in links]"
   ]
  },
  {
   "cell_type": "code",
   "execution_count": 15,
   "id": "0b2166f2-2f85-462d-b011-5001030de2c3",
   "metadata": {},
   "outputs": [
    {
     "data": {
      "text/plain": [
       "['https://fbref.com/en/squads/b8fd03ef/2023-2024/Manchester-City-Stats',\n",
       " 'https://fbref.com/en/squads/18bb7c10/2023-2024/Arsenal-Stats',\n",
       " 'https://fbref.com/en/squads/822bd0ba/2023-2024/Liverpool-Stats',\n",
       " 'https://fbref.com/en/squads/8602292d/2023-2024/Aston-Villa-Stats',\n",
       " 'https://fbref.com/en/squads/361ca564/2023-2024/Tottenham-Hotspur-Stats',\n",
       " 'https://fbref.com/en/squads/cff3d9bb/2023-2024/Chelsea-Stats',\n",
       " 'https://fbref.com/en/squads/b2b47a98/2023-2024/Newcastle-United-Stats',\n",
       " 'https://fbref.com/en/squads/19538871/2023-2024/Manchester-United-Stats',\n",
       " 'https://fbref.com/en/squads/7c21e445/2023-2024/West-Ham-United-Stats',\n",
       " 'https://fbref.com/en/squads/47c64c55/2023-2024/Crystal-Palace-Stats',\n",
       " 'https://fbref.com/en/squads/d07537b9/2023-2024/Brighton-and-Hove-Albion-Stats',\n",
       " 'https://fbref.com/en/squads/4ba7cbea/2023-2024/Bournemouth-Stats',\n",
       " 'https://fbref.com/en/squads/fd962109/2023-2024/Fulham-Stats',\n",
       " 'https://fbref.com/en/squads/8cec06e1/2023-2024/Wolverhampton-Wanderers-Stats',\n",
       " 'https://fbref.com/en/squads/d3fd31cc/2023-2024/Everton-Stats',\n",
       " 'https://fbref.com/en/squads/cd051869/2023-2024/Brentford-Stats',\n",
       " 'https://fbref.com/en/squads/e4a775cb/2023-2024/Nottingham-Forest-Stats',\n",
       " 'https://fbref.com/en/squads/e297cd13/2023-2024/Luton-Town-Stats',\n",
       " 'https://fbref.com/en/squads/943e8050/2023-2024/Burnley-Stats',\n",
       " 'https://fbref.com/en/squads/1df6b87e/2023-2024/Sheffield-United-Stats']"
      ]
     },
     "execution_count": 15,
     "metadata": {},
     "output_type": "execute_result"
    }
   ],
   "source": [
    "team_urls"
   ]
  },
  {
   "cell_type": "code",
   "execution_count": 16,
   "id": "44770f51-0a69-4ec5-92b5-9ba0bfe1b577",
   "metadata": {},
   "outputs": [],
   "source": [
    "#extracting match stats using pandas and requests "
   ]
  },
  {
   "cell_type": "code",
   "execution_count": 17,
   "id": "16dc8446-db3d-4bf1-9b16-f6ac4cd9baac",
   "metadata": {},
   "outputs": [],
   "source": [
    "team_url = team_urls[0]"
   ]
  },
  {
   "cell_type": "code",
   "execution_count": 18,
   "id": "c2cae8f5-1cb5-4220-9fbe-a009d5fda047",
   "metadata": {},
   "outputs": [],
   "source": [
    "data = requests.get(team_url)"
   ]
  },
  {
   "cell_type": "code",
   "execution_count": 19,
   "id": "63f2dd42-a72d-4011-82c9-bc1511c8b3a2",
   "metadata": {},
   "outputs": [
    {
     "name": "stderr",
     "output_type": "stream",
     "text": [
      "C:\\Users\\suyas\\AppData\\Local\\Temp\\ipykernel_14860\\2945822403.py:3: FutureWarning: Passing literal html to 'read_html' is deprecated and will be removed in a future version. To read from a literal string, wrap it in a 'StringIO' object.\n",
      "  matches = pd.read_html(data.text, match =\"Scores & Fixtures\")\n"
     ]
    }
   ],
   "source": [
    "import pandas as pd\n",
    "\n",
    "matches = pd.read_html(data.text, match =\"Scores & Fixtures\")"
   ]
  },
  {
   "cell_type": "code",
   "execution_count": 20,
   "id": "8c6c6f76-d0e8-49d2-ad69-cf7768f228b7",
   "metadata": {},
   "outputs": [
    {
     "data": {
      "text/html": [
       "<div>\n",
       "<style scoped>\n",
       "    .dataframe tbody tr th:only-of-type {\n",
       "        vertical-align: middle;\n",
       "    }\n",
       "\n",
       "    .dataframe tbody tr th {\n",
       "        vertical-align: top;\n",
       "    }\n",
       "\n",
       "    .dataframe thead th {\n",
       "        text-align: right;\n",
       "    }\n",
       "</style>\n",
       "<table border=\"1\" class=\"dataframe\">\n",
       "  <thead>\n",
       "    <tr style=\"text-align: right;\">\n",
       "      <th></th>\n",
       "      <th>Date</th>\n",
       "      <th>Time</th>\n",
       "      <th>Comp</th>\n",
       "      <th>Round</th>\n",
       "      <th>Day</th>\n",
       "      <th>Venue</th>\n",
       "      <th>Result</th>\n",
       "      <th>GF</th>\n",
       "      <th>GA</th>\n",
       "      <th>Opponent</th>\n",
       "      <th>xG</th>\n",
       "      <th>xGA</th>\n",
       "      <th>Poss</th>\n",
       "      <th>Attendance</th>\n",
       "      <th>Captain</th>\n",
       "      <th>Formation</th>\n",
       "      <th>Opp Formation</th>\n",
       "      <th>Referee</th>\n",
       "      <th>Match Report</th>\n",
       "      <th>Notes</th>\n",
       "    </tr>\n",
       "  </thead>\n",
       "  <tbody>\n",
       "    <tr>\n",
       "      <th>0</th>\n",
       "      <td>2023-08-06</td>\n",
       "      <td>16:00</td>\n",
       "      <td>Community Shield</td>\n",
       "      <td>FA Community Shield</td>\n",
       "      <td>Sun</td>\n",
       "      <td>Neutral</td>\n",
       "      <td>D</td>\n",
       "      <td>1 (1)</td>\n",
       "      <td>1 (4)</td>\n",
       "      <td>Arsenal</td>\n",
       "      <td>NaN</td>\n",
       "      <td>NaN</td>\n",
       "      <td>55</td>\n",
       "      <td>81145.0</td>\n",
       "      <td>Kyle Walker</td>\n",
       "      <td>4-2-3-1</td>\n",
       "      <td>4-3-3</td>\n",
       "      <td>Stuart Attwell</td>\n",
       "      <td>Match Report</td>\n",
       "      <td>NaN</td>\n",
       "    </tr>\n",
       "    <tr>\n",
       "      <th>1</th>\n",
       "      <td>2023-08-11</td>\n",
       "      <td>20:00</td>\n",
       "      <td>Premier League</td>\n",
       "      <td>Matchweek 1</td>\n",
       "      <td>Fri</td>\n",
       "      <td>Away</td>\n",
       "      <td>W</td>\n",
       "      <td>3</td>\n",
       "      <td>0</td>\n",
       "      <td>Burnley</td>\n",
       "      <td>1.9</td>\n",
       "      <td>0.3</td>\n",
       "      <td>65</td>\n",
       "      <td>21572.0</td>\n",
       "      <td>Kevin De Bruyne</td>\n",
       "      <td>4-2-3-1</td>\n",
       "      <td>5-4-1</td>\n",
       "      <td>Craig Pawson</td>\n",
       "      <td>Match Report</td>\n",
       "      <td>NaN</td>\n",
       "    </tr>\n",
       "    <tr>\n",
       "      <th>2</th>\n",
       "      <td>2023-08-16</td>\n",
       "      <td>22:00</td>\n",
       "      <td>Super Cup</td>\n",
       "      <td>UEFA Super Cup</td>\n",
       "      <td>Wed</td>\n",
       "      <td>Home</td>\n",
       "      <td>D</td>\n",
       "      <td>1 (5)</td>\n",
       "      <td>1 (4)</td>\n",
       "      <td>es Sevilla</td>\n",
       "      <td>NaN</td>\n",
       "      <td>NaN</td>\n",
       "      <td>74</td>\n",
       "      <td>NaN</td>\n",
       "      <td>Kyle Walker</td>\n",
       "      <td>4-2-3-1</td>\n",
       "      <td>4-2-3-1</td>\n",
       "      <td>François Letexier</td>\n",
       "      <td>Match Report</td>\n",
       "      <td>NaN</td>\n",
       "    </tr>\n",
       "    <tr>\n",
       "      <th>3</th>\n",
       "      <td>2023-08-19</td>\n",
       "      <td>20:00</td>\n",
       "      <td>Premier League</td>\n",
       "      <td>Matchweek 2</td>\n",
       "      <td>Sat</td>\n",
       "      <td>Home</td>\n",
       "      <td>W</td>\n",
       "      <td>1</td>\n",
       "      <td>0</td>\n",
       "      <td>Newcastle Utd</td>\n",
       "      <td>1.0</td>\n",
       "      <td>0.3</td>\n",
       "      <td>59</td>\n",
       "      <td>53419.0</td>\n",
       "      <td>Kyle Walker</td>\n",
       "      <td>4-2-3-1</td>\n",
       "      <td>4-3-3</td>\n",
       "      <td>Robert Jones</td>\n",
       "      <td>Match Report</td>\n",
       "      <td>NaN</td>\n",
       "    </tr>\n",
       "    <tr>\n",
       "      <th>4</th>\n",
       "      <td>2023-08-27</td>\n",
       "      <td>14:00</td>\n",
       "      <td>Premier League</td>\n",
       "      <td>Matchweek 3</td>\n",
       "      <td>Sun</td>\n",
       "      <td>Away</td>\n",
       "      <td>W</td>\n",
       "      <td>2</td>\n",
       "      <td>1</td>\n",
       "      <td>Sheffield Utd</td>\n",
       "      <td>3.5</td>\n",
       "      <td>0.7</td>\n",
       "      <td>79</td>\n",
       "      <td>31336.0</td>\n",
       "      <td>Kyle Walker</td>\n",
       "      <td>4-2-3-1</td>\n",
       "      <td>3-5-2</td>\n",
       "      <td>Jarred Gillett</td>\n",
       "      <td>Match Report</td>\n",
       "      <td>NaN</td>\n",
       "    </tr>\n",
       "  </tbody>\n",
       "</table>\n",
       "</div>"
      ],
      "text/plain": [
       "         Date   Time              Comp                Round  Day    Venue  \\\n",
       "0  2023-08-06  16:00  Community Shield  FA Community Shield  Sun  Neutral   \n",
       "1  2023-08-11  20:00    Premier League          Matchweek 1  Fri     Away   \n",
       "2  2023-08-16  22:00         Super Cup       UEFA Super Cup  Wed     Home   \n",
       "3  2023-08-19  20:00    Premier League          Matchweek 2  Sat     Home   \n",
       "4  2023-08-27  14:00    Premier League          Matchweek 3  Sun     Away   \n",
       "\n",
       "  Result     GF     GA       Opponent   xG  xGA  Poss  Attendance  \\\n",
       "0      D  1 (1)  1 (4)        Arsenal  NaN  NaN    55     81145.0   \n",
       "1      W      3      0        Burnley  1.9  0.3    65     21572.0   \n",
       "2      D  1 (5)  1 (4)     es Sevilla  NaN  NaN    74         NaN   \n",
       "3      W      1      0  Newcastle Utd  1.0  0.3    59     53419.0   \n",
       "4      W      2      1  Sheffield Utd  3.5  0.7    79     31336.0   \n",
       "\n",
       "           Captain Formation Opp Formation            Referee  Match Report  \\\n",
       "0      Kyle Walker   4-2-3-1         4-3-3     Stuart Attwell  Match Report   \n",
       "1  Kevin De Bruyne   4-2-3-1         5-4-1       Craig Pawson  Match Report   \n",
       "2      Kyle Walker   4-2-3-1       4-2-3-1  François Letexier  Match Report   \n",
       "3      Kyle Walker   4-2-3-1         4-3-3       Robert Jones  Match Report   \n",
       "4      Kyle Walker   4-2-3-1         3-5-2     Jarred Gillett  Match Report   \n",
       "\n",
       "  Notes  \n",
       "0   NaN  \n",
       "1   NaN  \n",
       "2   NaN  \n",
       "3   NaN  \n",
       "4   NaN  "
      ]
     },
     "execution_count": 20,
     "metadata": {},
     "output_type": "execute_result"
    }
   ],
   "source": [
    "matches[0].head()"
   ]
  },
  {
   "cell_type": "code",
   "execution_count": 21,
   "id": "05b4bf1b-6988-481b-8ddf-6e22f566203d",
   "metadata": {},
   "outputs": [],
   "source": [
    "#retrieving match shooting stats with requests and pandas"
   ]
  },
  {
   "cell_type": "code",
   "execution_count": 22,
   "id": "52054866-ac05-49ab-b8de-8220983e3ce3",
   "metadata": {},
   "outputs": [],
   "source": [
    "soup = BeautifulSoup(data.text)"
   ]
  },
  {
   "cell_type": "code",
   "execution_count": 23,
   "id": "50dfe9cc-a391-4eeb-afc6-7df5d9b3b528",
   "metadata": {},
   "outputs": [],
   "source": [
    "links = soup.find_all('a')"
   ]
  },
  {
   "cell_type": "code",
   "execution_count": 24,
   "id": "65d52345-0cac-43be-a11d-391236741b58",
   "metadata": {},
   "outputs": [],
   "source": [
    "links = [l.get(\"href\") for l in links]"
   ]
  },
  {
   "cell_type": "code",
   "execution_count": 25,
   "id": "d30b1496-21f4-4cee-ba0e-6e8b21d73d96",
   "metadata": {},
   "outputs": [],
   "source": [
    "links = [l for l in links if l and 'all_comps/shooting/' in l]"
   ]
  },
  {
   "cell_type": "code",
   "execution_count": 26,
   "id": "94efff1e-b941-4719-82b8-b3c796ef3fcf",
   "metadata": {},
   "outputs": [
    {
     "data": {
      "text/plain": [
       "['/en/squads/b8fd03ef/2023-2024/matchlogs/all_comps/shooting/Manchester-City-Match-Logs-All-Competitions',\n",
       " '/en/squads/b8fd03ef/2023-2024/matchlogs/all_comps/shooting/Manchester-City-Match-Logs-All-Competitions',\n",
       " '/en/squads/b8fd03ef/2023-2024/matchlogs/all_comps/shooting/Manchester-City-Match-Logs-All-Competitions',\n",
       " '/en/squads/b8fd03ef/2023-2024/matchlogs/all_comps/shooting/Manchester-City-Match-Logs-All-Competitions']"
      ]
     },
     "execution_count": 26,
     "metadata": {},
     "output_type": "execute_result"
    }
   ],
   "source": [
    "links"
   ]
  },
  {
   "cell_type": "code",
   "execution_count": 27,
   "id": "5f1814f5-843c-4a43-837e-dbf45dcd9f82",
   "metadata": {},
   "outputs": [],
   "source": [
    "data = requests.get(f\"https://fbref.com{links[0]}\")"
   ]
  },
  {
   "cell_type": "code",
   "execution_count": 28,
   "id": "f6036e0d-f52f-4db9-9d4c-a5f5cd4d03d9",
   "metadata": {},
   "outputs": [
    {
     "name": "stderr",
     "output_type": "stream",
     "text": [
      "C:\\Users\\suyas\\AppData\\Local\\Temp\\ipykernel_14860\\2517714723.py:1: FutureWarning: Passing literal html to 'read_html' is deprecated and will be removed in a future version. To read from a literal string, wrap it in a 'StringIO' object.\n",
      "  shooting = pd.read_html(data.text, match=\"Shooting\")[0]\n"
     ]
    }
   ],
   "source": [
    "shooting = pd.read_html(data.text, match=\"Shooting\")[0]"
   ]
  },
  {
   "cell_type": "code",
   "execution_count": 29,
   "id": "1f18bfee-0d94-4e40-8c29-6072bd88c152",
   "metadata": {},
   "outputs": [],
   "source": [
    "#cleaning and merging scrapped data with pandas"
   ]
  },
  {
   "cell_type": "code",
   "execution_count": 30,
   "id": "db27abf5-ec40-4835-afde-dbff91160da3",
   "metadata": {},
   "outputs": [
    {
     "data": {
      "text/html": [
       "<div>\n",
       "<style scoped>\n",
       "    .dataframe tbody tr th:only-of-type {\n",
       "        vertical-align: middle;\n",
       "    }\n",
       "\n",
       "    .dataframe tbody tr th {\n",
       "        vertical-align: top;\n",
       "    }\n",
       "\n",
       "    .dataframe thead tr th {\n",
       "        text-align: left;\n",
       "    }\n",
       "</style>\n",
       "<table border=\"1\" class=\"dataframe\">\n",
       "  <thead>\n",
       "    <tr>\n",
       "      <th></th>\n",
       "      <th colspan=\"10\" halign=\"left\">For Manchester City</th>\n",
       "      <th>...</th>\n",
       "      <th colspan=\"4\" halign=\"left\">Standard</th>\n",
       "      <th colspan=\"5\" halign=\"left\">Expected</th>\n",
       "      <th>Unnamed: 25_level_0</th>\n",
       "    </tr>\n",
       "    <tr>\n",
       "      <th></th>\n",
       "      <th>Date</th>\n",
       "      <th>Time</th>\n",
       "      <th>Comp</th>\n",
       "      <th>Round</th>\n",
       "      <th>Day</th>\n",
       "      <th>Venue</th>\n",
       "      <th>Result</th>\n",
       "      <th>GF</th>\n",
       "      <th>GA</th>\n",
       "      <th>Opponent</th>\n",
       "      <th>...</th>\n",
       "      <th>Dist</th>\n",
       "      <th>FK</th>\n",
       "      <th>PK</th>\n",
       "      <th>PKatt</th>\n",
       "      <th>xG</th>\n",
       "      <th>npxG</th>\n",
       "      <th>npxG/Sh</th>\n",
       "      <th>G-xG</th>\n",
       "      <th>np:G-xG</th>\n",
       "      <th>Match Report</th>\n",
       "    </tr>\n",
       "  </thead>\n",
       "  <tbody>\n",
       "    <tr>\n",
       "      <th>0</th>\n",
       "      <td>2023-08-06</td>\n",
       "      <td>16:00</td>\n",
       "      <td>Community Shield</td>\n",
       "      <td>FA Community Shield</td>\n",
       "      <td>Sun</td>\n",
       "      <td>Neutral</td>\n",
       "      <td>D</td>\n",
       "      <td>1 (1)</td>\n",
       "      <td>1 (4)</td>\n",
       "      <td>Arsenal</td>\n",
       "      <td>...</td>\n",
       "      <td>NaN</td>\n",
       "      <td>NaN</td>\n",
       "      <td>0</td>\n",
       "      <td>0</td>\n",
       "      <td>NaN</td>\n",
       "      <td>NaN</td>\n",
       "      <td>NaN</td>\n",
       "      <td>NaN</td>\n",
       "      <td>NaN</td>\n",
       "      <td>Match Report</td>\n",
       "    </tr>\n",
       "    <tr>\n",
       "      <th>1</th>\n",
       "      <td>2023-08-11</td>\n",
       "      <td>20:00</td>\n",
       "      <td>Premier League</td>\n",
       "      <td>Matchweek 1</td>\n",
       "      <td>Fri</td>\n",
       "      <td>Away</td>\n",
       "      <td>W</td>\n",
       "      <td>3</td>\n",
       "      <td>0</td>\n",
       "      <td>Burnley</td>\n",
       "      <td>...</td>\n",
       "      <td>13.9</td>\n",
       "      <td>0.0</td>\n",
       "      <td>0</td>\n",
       "      <td>0</td>\n",
       "      <td>1.9</td>\n",
       "      <td>1.9</td>\n",
       "      <td>0.12</td>\n",
       "      <td>1.1</td>\n",
       "      <td>1.1</td>\n",
       "      <td>Match Report</td>\n",
       "    </tr>\n",
       "    <tr>\n",
       "      <th>2</th>\n",
       "      <td>2023-08-16</td>\n",
       "      <td>22:00</td>\n",
       "      <td>Super Cup</td>\n",
       "      <td>UEFA Super Cup</td>\n",
       "      <td>Wed</td>\n",
       "      <td>Home</td>\n",
       "      <td>D</td>\n",
       "      <td>1 (5)</td>\n",
       "      <td>1 (4)</td>\n",
       "      <td>es Sevilla</td>\n",
       "      <td>...</td>\n",
       "      <td>NaN</td>\n",
       "      <td>NaN</td>\n",
       "      <td>0</td>\n",
       "      <td>0</td>\n",
       "      <td>NaN</td>\n",
       "      <td>NaN</td>\n",
       "      <td>NaN</td>\n",
       "      <td>NaN</td>\n",
       "      <td>NaN</td>\n",
       "      <td>Match Report</td>\n",
       "    </tr>\n",
       "    <tr>\n",
       "      <th>3</th>\n",
       "      <td>2023-08-19</td>\n",
       "      <td>20:00</td>\n",
       "      <td>Premier League</td>\n",
       "      <td>Matchweek 2</td>\n",
       "      <td>Sat</td>\n",
       "      <td>Home</td>\n",
       "      <td>W</td>\n",
       "      <td>1</td>\n",
       "      <td>0</td>\n",
       "      <td>Newcastle Utd</td>\n",
       "      <td>...</td>\n",
       "      <td>17.9</td>\n",
       "      <td>0.0</td>\n",
       "      <td>0</td>\n",
       "      <td>0</td>\n",
       "      <td>1.0</td>\n",
       "      <td>1.0</td>\n",
       "      <td>0.07</td>\n",
       "      <td>0.0</td>\n",
       "      <td>0.0</td>\n",
       "      <td>Match Report</td>\n",
       "    </tr>\n",
       "    <tr>\n",
       "      <th>4</th>\n",
       "      <td>2023-08-27</td>\n",
       "      <td>14:00</td>\n",
       "      <td>Premier League</td>\n",
       "      <td>Matchweek 3</td>\n",
       "      <td>Sun</td>\n",
       "      <td>Away</td>\n",
       "      <td>W</td>\n",
       "      <td>2</td>\n",
       "      <td>1</td>\n",
       "      <td>Sheffield Utd</td>\n",
       "      <td>...</td>\n",
       "      <td>17.3</td>\n",
       "      <td>2.0</td>\n",
       "      <td>0</td>\n",
       "      <td>1</td>\n",
       "      <td>3.5</td>\n",
       "      <td>2.8</td>\n",
       "      <td>0.10</td>\n",
       "      <td>-1.5</td>\n",
       "      <td>-0.8</td>\n",
       "      <td>Match Report</td>\n",
       "    </tr>\n",
       "  </tbody>\n",
       "</table>\n",
       "<p>5 rows × 26 columns</p>\n",
       "</div>"
      ],
      "text/plain": [
       "  For Manchester City                                                     \\\n",
       "                 Date   Time              Comp                Round  Day   \n",
       "0          2023-08-06  16:00  Community Shield  FA Community Shield  Sun   \n",
       "1          2023-08-11  20:00    Premier League          Matchweek 1  Fri   \n",
       "2          2023-08-16  22:00         Super Cup       UEFA Super Cup  Wed   \n",
       "3          2023-08-19  20:00    Premier League          Matchweek 2  Sat   \n",
       "4          2023-08-27  14:00    Premier League          Matchweek 3  Sun   \n",
       "\n",
       "                                                ... Standard                \\\n",
       "     Venue Result     GF     GA       Opponent  ...     Dist   FK PK PKatt   \n",
       "0  Neutral      D  1 (1)  1 (4)        Arsenal  ...      NaN  NaN  0     0   \n",
       "1     Away      W      3      0        Burnley  ...     13.9  0.0  0     0   \n",
       "2     Home      D  1 (5)  1 (4)     es Sevilla  ...      NaN  NaN  0     0   \n",
       "3     Home      W      1      0  Newcastle Utd  ...     17.9  0.0  0     0   \n",
       "4     Away      W      2      1  Sheffield Utd  ...     17.3  2.0  0     1   \n",
       "\n",
       "  Expected                           Unnamed: 25_level_0  \n",
       "        xG npxG npxG/Sh G-xG np:G-xG        Match Report  \n",
       "0      NaN  NaN     NaN  NaN     NaN        Match Report  \n",
       "1      1.9  1.9    0.12  1.1     1.1        Match Report  \n",
       "2      NaN  NaN     NaN  NaN     NaN        Match Report  \n",
       "3      1.0  1.0    0.07  0.0     0.0        Match Report  \n",
       "4      3.5  2.8    0.10 -1.5    -0.8        Match Report  \n",
       "\n",
       "[5 rows x 26 columns]"
      ]
     },
     "execution_count": 30,
     "metadata": {},
     "output_type": "execute_result"
    }
   ],
   "source": [
    "shooting.head()"
   ]
  },
  {
   "cell_type": "code",
   "execution_count": 31,
   "id": "b4a7d2ba-c830-43a5-9c14-09ae98648b61",
   "metadata": {},
   "outputs": [],
   "source": [
    "shooting.columns= shooting.columns.droplevel()"
   ]
  },
  {
   "cell_type": "code",
   "execution_count": 32,
   "id": "1752e37e-2bde-40e6-9210-9dfc1b00d106",
   "metadata": {},
   "outputs": [
    {
     "data": {
      "text/html": [
       "<div>\n",
       "<style scoped>\n",
       "    .dataframe tbody tr th:only-of-type {\n",
       "        vertical-align: middle;\n",
       "    }\n",
       "\n",
       "    .dataframe tbody tr th {\n",
       "        vertical-align: top;\n",
       "    }\n",
       "\n",
       "    .dataframe thead th {\n",
       "        text-align: right;\n",
       "    }\n",
       "</style>\n",
       "<table border=\"1\" class=\"dataframe\">\n",
       "  <thead>\n",
       "    <tr style=\"text-align: right;\">\n",
       "      <th></th>\n",
       "      <th>Date</th>\n",
       "      <th>Time</th>\n",
       "      <th>Comp</th>\n",
       "      <th>Round</th>\n",
       "      <th>Day</th>\n",
       "      <th>Venue</th>\n",
       "      <th>Result</th>\n",
       "      <th>GF</th>\n",
       "      <th>GA</th>\n",
       "      <th>Opponent</th>\n",
       "      <th>...</th>\n",
       "      <th>Dist</th>\n",
       "      <th>FK</th>\n",
       "      <th>PK</th>\n",
       "      <th>PKatt</th>\n",
       "      <th>xG</th>\n",
       "      <th>npxG</th>\n",
       "      <th>npxG/Sh</th>\n",
       "      <th>G-xG</th>\n",
       "      <th>np:G-xG</th>\n",
       "      <th>Match Report</th>\n",
       "    </tr>\n",
       "  </thead>\n",
       "  <tbody>\n",
       "    <tr>\n",
       "      <th>0</th>\n",
       "      <td>2023-08-06</td>\n",
       "      <td>16:00</td>\n",
       "      <td>Community Shield</td>\n",
       "      <td>FA Community Shield</td>\n",
       "      <td>Sun</td>\n",
       "      <td>Neutral</td>\n",
       "      <td>D</td>\n",
       "      <td>1 (1)</td>\n",
       "      <td>1 (4)</td>\n",
       "      <td>Arsenal</td>\n",
       "      <td>...</td>\n",
       "      <td>NaN</td>\n",
       "      <td>NaN</td>\n",
       "      <td>0</td>\n",
       "      <td>0</td>\n",
       "      <td>NaN</td>\n",
       "      <td>NaN</td>\n",
       "      <td>NaN</td>\n",
       "      <td>NaN</td>\n",
       "      <td>NaN</td>\n",
       "      <td>Match Report</td>\n",
       "    </tr>\n",
       "    <tr>\n",
       "      <th>1</th>\n",
       "      <td>2023-08-11</td>\n",
       "      <td>20:00</td>\n",
       "      <td>Premier League</td>\n",
       "      <td>Matchweek 1</td>\n",
       "      <td>Fri</td>\n",
       "      <td>Away</td>\n",
       "      <td>W</td>\n",
       "      <td>3</td>\n",
       "      <td>0</td>\n",
       "      <td>Burnley</td>\n",
       "      <td>...</td>\n",
       "      <td>13.9</td>\n",
       "      <td>0.0</td>\n",
       "      <td>0</td>\n",
       "      <td>0</td>\n",
       "      <td>1.9</td>\n",
       "      <td>1.9</td>\n",
       "      <td>0.12</td>\n",
       "      <td>1.1</td>\n",
       "      <td>1.1</td>\n",
       "      <td>Match Report</td>\n",
       "    </tr>\n",
       "    <tr>\n",
       "      <th>2</th>\n",
       "      <td>2023-08-16</td>\n",
       "      <td>22:00</td>\n",
       "      <td>Super Cup</td>\n",
       "      <td>UEFA Super Cup</td>\n",
       "      <td>Wed</td>\n",
       "      <td>Home</td>\n",
       "      <td>D</td>\n",
       "      <td>1 (5)</td>\n",
       "      <td>1 (4)</td>\n",
       "      <td>es Sevilla</td>\n",
       "      <td>...</td>\n",
       "      <td>NaN</td>\n",
       "      <td>NaN</td>\n",
       "      <td>0</td>\n",
       "      <td>0</td>\n",
       "      <td>NaN</td>\n",
       "      <td>NaN</td>\n",
       "      <td>NaN</td>\n",
       "      <td>NaN</td>\n",
       "      <td>NaN</td>\n",
       "      <td>Match Report</td>\n",
       "    </tr>\n",
       "    <tr>\n",
       "      <th>3</th>\n",
       "      <td>2023-08-19</td>\n",
       "      <td>20:00</td>\n",
       "      <td>Premier League</td>\n",
       "      <td>Matchweek 2</td>\n",
       "      <td>Sat</td>\n",
       "      <td>Home</td>\n",
       "      <td>W</td>\n",
       "      <td>1</td>\n",
       "      <td>0</td>\n",
       "      <td>Newcastle Utd</td>\n",
       "      <td>...</td>\n",
       "      <td>17.9</td>\n",
       "      <td>0.0</td>\n",
       "      <td>0</td>\n",
       "      <td>0</td>\n",
       "      <td>1.0</td>\n",
       "      <td>1.0</td>\n",
       "      <td>0.07</td>\n",
       "      <td>0.0</td>\n",
       "      <td>0.0</td>\n",
       "      <td>Match Report</td>\n",
       "    </tr>\n",
       "    <tr>\n",
       "      <th>4</th>\n",
       "      <td>2023-08-27</td>\n",
       "      <td>14:00</td>\n",
       "      <td>Premier League</td>\n",
       "      <td>Matchweek 3</td>\n",
       "      <td>Sun</td>\n",
       "      <td>Away</td>\n",
       "      <td>W</td>\n",
       "      <td>2</td>\n",
       "      <td>1</td>\n",
       "      <td>Sheffield Utd</td>\n",
       "      <td>...</td>\n",
       "      <td>17.3</td>\n",
       "      <td>2.0</td>\n",
       "      <td>0</td>\n",
       "      <td>1</td>\n",
       "      <td>3.5</td>\n",
       "      <td>2.8</td>\n",
       "      <td>0.10</td>\n",
       "      <td>-1.5</td>\n",
       "      <td>-0.8</td>\n",
       "      <td>Match Report</td>\n",
       "    </tr>\n",
       "  </tbody>\n",
       "</table>\n",
       "<p>5 rows × 26 columns</p>\n",
       "</div>"
      ],
      "text/plain": [
       "         Date   Time              Comp                Round  Day    Venue  \\\n",
       "0  2023-08-06  16:00  Community Shield  FA Community Shield  Sun  Neutral   \n",
       "1  2023-08-11  20:00    Premier League          Matchweek 1  Fri     Away   \n",
       "2  2023-08-16  22:00         Super Cup       UEFA Super Cup  Wed     Home   \n",
       "3  2023-08-19  20:00    Premier League          Matchweek 2  Sat     Home   \n",
       "4  2023-08-27  14:00    Premier League          Matchweek 3  Sun     Away   \n",
       "\n",
       "  Result     GF     GA       Opponent  ...  Dist   FK  PK  PKatt   xG  npxG  \\\n",
       "0      D  1 (1)  1 (4)        Arsenal  ...   NaN  NaN   0      0  NaN   NaN   \n",
       "1      W      3      0        Burnley  ...  13.9  0.0   0      0  1.9   1.9   \n",
       "2      D  1 (5)  1 (4)     es Sevilla  ...   NaN  NaN   0      0  NaN   NaN   \n",
       "3      W      1      0  Newcastle Utd  ...  17.9  0.0   0      0  1.0   1.0   \n",
       "4      W      2      1  Sheffield Utd  ...  17.3  2.0   0      1  3.5   2.8   \n",
       "\n",
       "   npxG/Sh  G-xG  np:G-xG  Match Report  \n",
       "0      NaN   NaN      NaN  Match Report  \n",
       "1     0.12   1.1      1.1  Match Report  \n",
       "2      NaN   NaN      NaN  Match Report  \n",
       "3     0.07   0.0      0.0  Match Report  \n",
       "4     0.10  -1.5     -0.8  Match Report  \n",
       "\n",
       "[5 rows x 26 columns]"
      ]
     },
     "execution_count": 32,
     "metadata": {},
     "output_type": "execute_result"
    }
   ],
   "source": [
    "shooting.head()"
   ]
  },
  {
   "cell_type": "code",
   "execution_count": 33,
   "id": "bf2a6bd1-4aa4-4098-a3e3-1484e55eb9ef",
   "metadata": {},
   "outputs": [],
   "source": [
    "team_data = matches[0].merge(shooting[[\"Date\", \"Sh\", \"SoT\", \"Dist\", \"FK\", \"PK\", \"PKatt\"]], on =\"Date\")"
   ]
  },
  {
   "cell_type": "code",
   "execution_count": 34,
   "id": "9f6d2000-eee5-4b2a-a7aa-702bfdc05390",
   "metadata": {},
   "outputs": [
    {
     "data": {
      "text/plain": [
       "(57, 20)"
      ]
     },
     "execution_count": 34,
     "metadata": {},
     "output_type": "execute_result"
    }
   ],
   "source": [
    "matches[0].shape"
   ]
  },
  {
   "cell_type": "code",
   "execution_count": 35,
   "id": "9246f46e-c4a0-41ef-9bb0-5041951c5849",
   "metadata": {},
   "outputs": [
    {
     "data": {
      "text/plain": [
       "(58, 26)"
      ]
     },
     "execution_count": 35,
     "metadata": {},
     "output_type": "execute_result"
    }
   ],
   "source": [
    "shooting.shape"
   ]
  },
  {
   "cell_type": "code",
   "execution_count": 36,
   "id": "1f83a90b-b6e2-432e-8ba4-c78aeda38736",
   "metadata": {},
   "outputs": [],
   "source": [
    "#scraping data for multiple season and teams with a loop"
   ]
  },
  {
   "cell_type": "code",
   "execution_count": 37,
   "id": "f1236be4-cd3f-4d79-9a79-264bf96c25a8",
   "metadata": {},
   "outputs": [],
   "source": [
    "years = list(range(2024, 2020, -1))"
   ]
  },
  {
   "cell_type": "code",
   "execution_count": 38,
   "id": "d1c15ce8-0a2a-4a85-9bfb-8c8df8bc581f",
   "metadata": {},
   "outputs": [
    {
     "data": {
      "text/plain": [
       "[2024, 2023, 2022, 2021]"
      ]
     },
     "execution_count": 38,
     "metadata": {},
     "output_type": "execute_result"
    }
   ],
   "source": [
    "years"
   ]
  },
  {
   "cell_type": "code",
   "execution_count": 39,
   "id": "2d3b9faf-5bef-44d6-a305-1d0a201b989f",
   "metadata": {},
   "outputs": [],
   "source": [
    "all_matches = [] "
   ]
  },
  {
   "cell_type": "code",
   "execution_count": 40,
   "id": "04a9cbaa-f6b5-46d6-878a-fb26bc1e98b2",
   "metadata": {},
   "outputs": [],
   "source": [
    "standings_url = \"https://fbref.com/en/comps/9/2023-2024/2023-2024-Premier-League-Stats\""
   ]
  },
  {
   "cell_type": "code",
   "execution_count": 41,
   "id": "3f000562-efd0-4510-a8fd-6014ad507a17",
   "metadata": {},
   "outputs": [
    {
     "name": "stderr",
     "output_type": "stream",
     "text": [
      "C:\\Users\\suyas\\AppData\\Local\\Temp\\ipykernel_14860\\4090503731.py:18: FutureWarning: Passing literal html to 'read_html' is deprecated and will be removed in a future version. To read from a literal string, wrap it in a 'StringIO' object.\n",
      "  matches = pd.read_html(data.text, match =\"Scores & Fixtures\")[0]\n",
      "C:\\Users\\suyas\\AppData\\Local\\Temp\\ipykernel_14860\\4090503731.py:24: FutureWarning: Passing literal html to 'read_html' is deprecated and will be removed in a future version. To read from a literal string, wrap it in a 'StringIO' object.\n",
      "  shooting = pd.read_html(data.text, match=\"Shooting\")[0]\n",
      "C:\\Users\\suyas\\AppData\\Local\\Temp\\ipykernel_14860\\4090503731.py:18: FutureWarning: Passing literal html to 'read_html' is deprecated and will be removed in a future version. To read from a literal string, wrap it in a 'StringIO' object.\n",
      "  matches = pd.read_html(data.text, match =\"Scores & Fixtures\")[0]\n",
      "C:\\Users\\suyas\\AppData\\Local\\Temp\\ipykernel_14860\\4090503731.py:24: FutureWarning: Passing literal html to 'read_html' is deprecated and will be removed in a future version. To read from a literal string, wrap it in a 'StringIO' object.\n",
      "  shooting = pd.read_html(data.text, match=\"Shooting\")[0]\n",
      "C:\\Users\\suyas\\AppData\\Local\\Temp\\ipykernel_14860\\4090503731.py:18: FutureWarning: Passing literal html to 'read_html' is deprecated and will be removed in a future version. To read from a literal string, wrap it in a 'StringIO' object.\n",
      "  matches = pd.read_html(data.text, match =\"Scores & Fixtures\")[0]\n",
      "C:\\Users\\suyas\\AppData\\Local\\Temp\\ipykernel_14860\\4090503731.py:24: FutureWarning: Passing literal html to 'read_html' is deprecated and will be removed in a future version. To read from a literal string, wrap it in a 'StringIO' object.\n",
      "  shooting = pd.read_html(data.text, match=\"Shooting\")[0]\n",
      "C:\\Users\\suyas\\AppData\\Local\\Temp\\ipykernel_14860\\4090503731.py:18: FutureWarning: Passing literal html to 'read_html' is deprecated and will be removed in a future version. To read from a literal string, wrap it in a 'StringIO' object.\n",
      "  matches = pd.read_html(data.text, match =\"Scores & Fixtures\")[0]\n",
      "C:\\Users\\suyas\\AppData\\Local\\Temp\\ipykernel_14860\\4090503731.py:24: FutureWarning: Passing literal html to 'read_html' is deprecated and will be removed in a future version. To read from a literal string, wrap it in a 'StringIO' object.\n",
      "  shooting = pd.read_html(data.text, match=\"Shooting\")[0]\n",
      "C:\\Users\\suyas\\AppData\\Local\\Temp\\ipykernel_14860\\4090503731.py:18: FutureWarning: Passing literal html to 'read_html' is deprecated and will be removed in a future version. To read from a literal string, wrap it in a 'StringIO' object.\n",
      "  matches = pd.read_html(data.text, match =\"Scores & Fixtures\")[0]\n",
      "C:\\Users\\suyas\\AppData\\Local\\Temp\\ipykernel_14860\\4090503731.py:24: FutureWarning: Passing literal html to 'read_html' is deprecated and will be removed in a future version. To read from a literal string, wrap it in a 'StringIO' object.\n",
      "  shooting = pd.read_html(data.text, match=\"Shooting\")[0]\n",
      "C:\\Users\\suyas\\AppData\\Local\\Temp\\ipykernel_14860\\4090503731.py:18: FutureWarning: Passing literal html to 'read_html' is deprecated and will be removed in a future version. To read from a literal string, wrap it in a 'StringIO' object.\n",
      "  matches = pd.read_html(data.text, match =\"Scores & Fixtures\")[0]\n",
      "C:\\Users\\suyas\\AppData\\Local\\Temp\\ipykernel_14860\\4090503731.py:24: FutureWarning: Passing literal html to 'read_html' is deprecated and will be removed in a future version. To read from a literal string, wrap it in a 'StringIO' object.\n",
      "  shooting = pd.read_html(data.text, match=\"Shooting\")[0]\n",
      "C:\\Users\\suyas\\AppData\\Local\\Temp\\ipykernel_14860\\4090503731.py:18: FutureWarning: Passing literal html to 'read_html' is deprecated and will be removed in a future version. To read from a literal string, wrap it in a 'StringIO' object.\n",
      "  matches = pd.read_html(data.text, match =\"Scores & Fixtures\")[0]\n",
      "C:\\Users\\suyas\\AppData\\Local\\Temp\\ipykernel_14860\\4090503731.py:24: FutureWarning: Passing literal html to 'read_html' is deprecated and will be removed in a future version. To read from a literal string, wrap it in a 'StringIO' object.\n",
      "  shooting = pd.read_html(data.text, match=\"Shooting\")[0]\n"
     ]
    },
    {
     "ename": "ValueError",
     "evalue": "No tables found",
     "output_type": "error",
     "traceback": [
      "\u001b[1;31m---------------------------------------------------------------------------\u001b[0m",
      "\u001b[1;31mValueError\u001b[0m                                Traceback (most recent call last)",
      "Cell \u001b[1;32mIn[41], line 24\u001b[0m\n\u001b[0;32m     22\u001b[0m links \u001b[38;5;241m=\u001b[39m [l \u001b[38;5;28;01mfor\u001b[39;00m l \u001b[38;5;129;01min\u001b[39;00m links \u001b[38;5;28;01mif\u001b[39;00m l \u001b[38;5;129;01mand\u001b[39;00m \u001b[38;5;124m'\u001b[39m\u001b[38;5;124mall_comps/shooting/\u001b[39m\u001b[38;5;124m'\u001b[39m \u001b[38;5;129;01min\u001b[39;00m l]\n\u001b[0;32m     23\u001b[0m data \u001b[38;5;241m=\u001b[39m requests\u001b[38;5;241m.\u001b[39mget(\u001b[38;5;124mf\u001b[39m\u001b[38;5;124m\"\u001b[39m\u001b[38;5;124mhttps://fbref.com\u001b[39m\u001b[38;5;132;01m{\u001b[39;00mlinks[\u001b[38;5;241m0\u001b[39m]\u001b[38;5;132;01m}\u001b[39;00m\u001b[38;5;124m\"\u001b[39m)\n\u001b[1;32m---> 24\u001b[0m shooting \u001b[38;5;241m=\u001b[39m \u001b[43mpd\u001b[49m\u001b[38;5;241;43m.\u001b[39;49m\u001b[43mread_html\u001b[49m\u001b[43m(\u001b[49m\u001b[43mdata\u001b[49m\u001b[38;5;241;43m.\u001b[39;49m\u001b[43mtext\u001b[49m\u001b[43m,\u001b[49m\u001b[43m \u001b[49m\u001b[43mmatch\u001b[49m\u001b[38;5;241;43m=\u001b[39;49m\u001b[38;5;124;43m\"\u001b[39;49m\u001b[38;5;124;43mShooting\u001b[39;49m\u001b[38;5;124;43m\"\u001b[39;49m\u001b[43m)\u001b[49m[\u001b[38;5;241m0\u001b[39m]\n\u001b[0;32m     25\u001b[0m shooting\u001b[38;5;241m.\u001b[39mcolumns\u001b[38;5;241m=\u001b[39m shooting\u001b[38;5;241m.\u001b[39mcolumns\u001b[38;5;241m.\u001b[39mdroplevel()\n\u001b[0;32m     27\u001b[0m \u001b[38;5;28;01mtry\u001b[39;00m:\n",
      "File \u001b[1;32m~\\AppData\\Local\\Programs\\Python\\Python312\\Lib\\site-packages\\pandas\\io\\html.py:1240\u001b[0m, in \u001b[0;36mread_html\u001b[1;34m(io, match, flavor, header, index_col, skiprows, attrs, parse_dates, thousands, encoding, decimal, converters, na_values, keep_default_na, displayed_only, extract_links, dtype_backend, storage_options)\u001b[0m\n\u001b[0;32m   1224\u001b[0m \u001b[38;5;28;01mif\u001b[39;00m \u001b[38;5;28misinstance\u001b[39m(io, \u001b[38;5;28mstr\u001b[39m) \u001b[38;5;129;01mand\u001b[39;00m \u001b[38;5;129;01mnot\u001b[39;00m \u001b[38;5;28many\u001b[39m(\n\u001b[0;32m   1225\u001b[0m     [\n\u001b[0;32m   1226\u001b[0m         is_file_like(io),\n\u001b[1;32m   (...)\u001b[0m\n\u001b[0;32m   1230\u001b[0m     ]\n\u001b[0;32m   1231\u001b[0m ):\n\u001b[0;32m   1232\u001b[0m     warnings\u001b[38;5;241m.\u001b[39mwarn(\n\u001b[0;32m   1233\u001b[0m         \u001b[38;5;124m\"\u001b[39m\u001b[38;5;124mPassing literal html to \u001b[39m\u001b[38;5;124m'\u001b[39m\u001b[38;5;124mread_html\u001b[39m\u001b[38;5;124m'\u001b[39m\u001b[38;5;124m is deprecated and \u001b[39m\u001b[38;5;124m\"\u001b[39m\n\u001b[0;32m   1234\u001b[0m         \u001b[38;5;124m\"\u001b[39m\u001b[38;5;124mwill be removed in a future version. To read from a \u001b[39m\u001b[38;5;124m\"\u001b[39m\n\u001b[1;32m   (...)\u001b[0m\n\u001b[0;32m   1237\u001b[0m         stacklevel\u001b[38;5;241m=\u001b[39mfind_stack_level(),\n\u001b[0;32m   1238\u001b[0m     )\n\u001b[1;32m-> 1240\u001b[0m \u001b[38;5;28;01mreturn\u001b[39;00m \u001b[43m_parse\u001b[49m\u001b[43m(\u001b[49m\n\u001b[0;32m   1241\u001b[0m \u001b[43m    \u001b[49m\u001b[43mflavor\u001b[49m\u001b[38;5;241;43m=\u001b[39;49m\u001b[43mflavor\u001b[49m\u001b[43m,\u001b[49m\n\u001b[0;32m   1242\u001b[0m \u001b[43m    \u001b[49m\u001b[43mio\u001b[49m\u001b[38;5;241;43m=\u001b[39;49m\u001b[43mio\u001b[49m\u001b[43m,\u001b[49m\n\u001b[0;32m   1243\u001b[0m \u001b[43m    \u001b[49m\u001b[43mmatch\u001b[49m\u001b[38;5;241;43m=\u001b[39;49m\u001b[43mmatch\u001b[49m\u001b[43m,\u001b[49m\n\u001b[0;32m   1244\u001b[0m \u001b[43m    \u001b[49m\u001b[43mheader\u001b[49m\u001b[38;5;241;43m=\u001b[39;49m\u001b[43mheader\u001b[49m\u001b[43m,\u001b[49m\n\u001b[0;32m   1245\u001b[0m \u001b[43m    \u001b[49m\u001b[43mindex_col\u001b[49m\u001b[38;5;241;43m=\u001b[39;49m\u001b[43mindex_col\u001b[49m\u001b[43m,\u001b[49m\n\u001b[0;32m   1246\u001b[0m \u001b[43m    \u001b[49m\u001b[43mskiprows\u001b[49m\u001b[38;5;241;43m=\u001b[39;49m\u001b[43mskiprows\u001b[49m\u001b[43m,\u001b[49m\n\u001b[0;32m   1247\u001b[0m \u001b[43m    \u001b[49m\u001b[43mparse_dates\u001b[49m\u001b[38;5;241;43m=\u001b[39;49m\u001b[43mparse_dates\u001b[49m\u001b[43m,\u001b[49m\n\u001b[0;32m   1248\u001b[0m \u001b[43m    \u001b[49m\u001b[43mthousands\u001b[49m\u001b[38;5;241;43m=\u001b[39;49m\u001b[43mthousands\u001b[49m\u001b[43m,\u001b[49m\n\u001b[0;32m   1249\u001b[0m \u001b[43m    \u001b[49m\u001b[43mattrs\u001b[49m\u001b[38;5;241;43m=\u001b[39;49m\u001b[43mattrs\u001b[49m\u001b[43m,\u001b[49m\n\u001b[0;32m   1250\u001b[0m \u001b[43m    \u001b[49m\u001b[43mencoding\u001b[49m\u001b[38;5;241;43m=\u001b[39;49m\u001b[43mencoding\u001b[49m\u001b[43m,\u001b[49m\n\u001b[0;32m   1251\u001b[0m \u001b[43m    \u001b[49m\u001b[43mdecimal\u001b[49m\u001b[38;5;241;43m=\u001b[39;49m\u001b[43mdecimal\u001b[49m\u001b[43m,\u001b[49m\n\u001b[0;32m   1252\u001b[0m \u001b[43m    \u001b[49m\u001b[43mconverters\u001b[49m\u001b[38;5;241;43m=\u001b[39;49m\u001b[43mconverters\u001b[49m\u001b[43m,\u001b[49m\n\u001b[0;32m   1253\u001b[0m \u001b[43m    \u001b[49m\u001b[43mna_values\u001b[49m\u001b[38;5;241;43m=\u001b[39;49m\u001b[43mna_values\u001b[49m\u001b[43m,\u001b[49m\n\u001b[0;32m   1254\u001b[0m \u001b[43m    \u001b[49m\u001b[43mkeep_default_na\u001b[49m\u001b[38;5;241;43m=\u001b[39;49m\u001b[43mkeep_default_na\u001b[49m\u001b[43m,\u001b[49m\n\u001b[0;32m   1255\u001b[0m \u001b[43m    \u001b[49m\u001b[43mdisplayed_only\u001b[49m\u001b[38;5;241;43m=\u001b[39;49m\u001b[43mdisplayed_only\u001b[49m\u001b[43m,\u001b[49m\n\u001b[0;32m   1256\u001b[0m \u001b[43m    \u001b[49m\u001b[43mextract_links\u001b[49m\u001b[38;5;241;43m=\u001b[39;49m\u001b[43mextract_links\u001b[49m\u001b[43m,\u001b[49m\n\u001b[0;32m   1257\u001b[0m \u001b[43m    \u001b[49m\u001b[43mdtype_backend\u001b[49m\u001b[38;5;241;43m=\u001b[39;49m\u001b[43mdtype_backend\u001b[49m\u001b[43m,\u001b[49m\n\u001b[0;32m   1258\u001b[0m \u001b[43m    \u001b[49m\u001b[43mstorage_options\u001b[49m\u001b[38;5;241;43m=\u001b[39;49m\u001b[43mstorage_options\u001b[49m\u001b[43m,\u001b[49m\n\u001b[0;32m   1259\u001b[0m \u001b[43m\u001b[49m\u001b[43m)\u001b[49m\n",
      "File \u001b[1;32m~\\AppData\\Local\\Programs\\Python\\Python312\\Lib\\site-packages\\pandas\\io\\html.py:1003\u001b[0m, in \u001b[0;36m_parse\u001b[1;34m(flavor, io, match, attrs, encoding, displayed_only, extract_links, storage_options, **kwargs)\u001b[0m\n\u001b[0;32m   1001\u001b[0m \u001b[38;5;28;01melse\u001b[39;00m:\n\u001b[0;32m   1002\u001b[0m     \u001b[38;5;28;01massert\u001b[39;00m retained \u001b[38;5;129;01mis\u001b[39;00m \u001b[38;5;129;01mnot\u001b[39;00m \u001b[38;5;28;01mNone\u001b[39;00m  \u001b[38;5;66;03m# for mypy\u001b[39;00m\n\u001b[1;32m-> 1003\u001b[0m     \u001b[38;5;28;01mraise\u001b[39;00m retained\n\u001b[0;32m   1005\u001b[0m ret \u001b[38;5;241m=\u001b[39m []\n\u001b[0;32m   1006\u001b[0m \u001b[38;5;28;01mfor\u001b[39;00m table \u001b[38;5;129;01min\u001b[39;00m tables:\n",
      "File \u001b[1;32m~\\AppData\\Local\\Programs\\Python\\Python312\\Lib\\site-packages\\pandas\\io\\html.py:983\u001b[0m, in \u001b[0;36m_parse\u001b[1;34m(flavor, io, match, attrs, encoding, displayed_only, extract_links, storage_options, **kwargs)\u001b[0m\n\u001b[0;32m    972\u001b[0m p \u001b[38;5;241m=\u001b[39m parser(\n\u001b[0;32m    973\u001b[0m     io,\n\u001b[0;32m    974\u001b[0m     compiled_match,\n\u001b[1;32m   (...)\u001b[0m\n\u001b[0;32m    979\u001b[0m     storage_options,\n\u001b[0;32m    980\u001b[0m )\n\u001b[0;32m    982\u001b[0m \u001b[38;5;28;01mtry\u001b[39;00m:\n\u001b[1;32m--> 983\u001b[0m     tables \u001b[38;5;241m=\u001b[39m \u001b[43mp\u001b[49m\u001b[38;5;241;43m.\u001b[39;49m\u001b[43mparse_tables\u001b[49m\u001b[43m(\u001b[49m\u001b[43m)\u001b[49m\n\u001b[0;32m    984\u001b[0m \u001b[38;5;28;01mexcept\u001b[39;00m \u001b[38;5;167;01mValueError\u001b[39;00m \u001b[38;5;28;01mas\u001b[39;00m caught:\n\u001b[0;32m    985\u001b[0m     \u001b[38;5;66;03m# if `io` is an io-like object, check if it's seekable\u001b[39;00m\n\u001b[0;32m    986\u001b[0m     \u001b[38;5;66;03m# and try to rewind it before trying the next parser\u001b[39;00m\n\u001b[0;32m    987\u001b[0m     \u001b[38;5;28;01mif\u001b[39;00m \u001b[38;5;28mhasattr\u001b[39m(io, \u001b[38;5;124m\"\u001b[39m\u001b[38;5;124mseekable\u001b[39m\u001b[38;5;124m\"\u001b[39m) \u001b[38;5;129;01mand\u001b[39;00m io\u001b[38;5;241m.\u001b[39mseekable():\n",
      "File \u001b[1;32m~\\AppData\\Local\\Programs\\Python\\Python312\\Lib\\site-packages\\pandas\\io\\html.py:249\u001b[0m, in \u001b[0;36m_HtmlFrameParser.parse_tables\u001b[1;34m(self)\u001b[0m\n\u001b[0;32m    241\u001b[0m \u001b[38;5;28;01mdef\u001b[39;00m \u001b[38;5;21mparse_tables\u001b[39m(\u001b[38;5;28mself\u001b[39m):\n\u001b[0;32m    242\u001b[0m \u001b[38;5;250m    \u001b[39m\u001b[38;5;124;03m\"\"\"\u001b[39;00m\n\u001b[0;32m    243\u001b[0m \u001b[38;5;124;03m    Parse and return all tables from the DOM.\u001b[39;00m\n\u001b[0;32m    244\u001b[0m \n\u001b[1;32m   (...)\u001b[0m\n\u001b[0;32m    247\u001b[0m \u001b[38;5;124;03m    list of parsed (header, body, footer) tuples from tables.\u001b[39;00m\n\u001b[0;32m    248\u001b[0m \u001b[38;5;124;03m    \"\"\"\u001b[39;00m\n\u001b[1;32m--> 249\u001b[0m     tables \u001b[38;5;241m=\u001b[39m \u001b[38;5;28;43mself\u001b[39;49m\u001b[38;5;241;43m.\u001b[39;49m\u001b[43m_parse_tables\u001b[49m\u001b[43m(\u001b[49m\u001b[38;5;28;43mself\u001b[39;49m\u001b[38;5;241;43m.\u001b[39;49m\u001b[43m_build_doc\u001b[49m\u001b[43m(\u001b[49m\u001b[43m)\u001b[49m\u001b[43m,\u001b[49m\u001b[43m \u001b[49m\u001b[38;5;28;43mself\u001b[39;49m\u001b[38;5;241;43m.\u001b[39;49m\u001b[43mmatch\u001b[49m\u001b[43m,\u001b[49m\u001b[43m \u001b[49m\u001b[38;5;28;43mself\u001b[39;49m\u001b[38;5;241;43m.\u001b[39;49m\u001b[43mattrs\u001b[49m\u001b[43m)\u001b[49m\n\u001b[0;32m    250\u001b[0m     \u001b[38;5;28;01mreturn\u001b[39;00m (\u001b[38;5;28mself\u001b[39m\u001b[38;5;241m.\u001b[39m_parse_thead_tbody_tfoot(table) \u001b[38;5;28;01mfor\u001b[39;00m table \u001b[38;5;129;01min\u001b[39;00m tables)\n",
      "File \u001b[1;32m~\\AppData\\Local\\Programs\\Python\\Python312\\Lib\\site-packages\\pandas\\io\\html.py:598\u001b[0m, in \u001b[0;36m_BeautifulSoupHtml5LibFrameParser._parse_tables\u001b[1;34m(self, document, match, attrs)\u001b[0m\n\u001b[0;32m    596\u001b[0m tables \u001b[38;5;241m=\u001b[39m document\u001b[38;5;241m.\u001b[39mfind_all(element_name, attrs\u001b[38;5;241m=\u001b[39mattrs)\n\u001b[0;32m    597\u001b[0m \u001b[38;5;28;01mif\u001b[39;00m \u001b[38;5;129;01mnot\u001b[39;00m tables:\n\u001b[1;32m--> 598\u001b[0m     \u001b[38;5;28;01mraise\u001b[39;00m \u001b[38;5;167;01mValueError\u001b[39;00m(\u001b[38;5;124m\"\u001b[39m\u001b[38;5;124mNo tables found\u001b[39m\u001b[38;5;124m\"\u001b[39m)\n\u001b[0;32m    600\u001b[0m result \u001b[38;5;241m=\u001b[39m []\n\u001b[0;32m    601\u001b[0m unique_tables \u001b[38;5;241m=\u001b[39m \u001b[38;5;28mset\u001b[39m()\n",
      "\u001b[1;31mValueError\u001b[0m: No tables found"
     ]
    }
   ],
   "source": [
    "import time\n",
    "for year in years:\n",
    "    data = requests.get(standings_url)\n",
    "    soup = BeautifulSoup(data.text)\n",
    "    standings_table = soup.select('table.stats_table')[0]\n",
    "\n",
    "    links = [l.get(\"href\") for l in standings_table.find_all('a')]\n",
    "    links = [l for l in links if '/squads' in l]\n",
    "    team_urls = [f\"https://fbref.com{l}\" for l in links]\n",
    "\n",
    "    previous_season = soup.select(\"a.prev\")[0].get(\"href\")\n",
    "    standings_url = f\"https://fbref.com/{previous_season}\"\n",
    "\n",
    "    for team_url in team_urls:\n",
    "        team_name = team_url.split(\"/\")[-1].replace(\"-Stats\", \"\").replace(\"-\", \" \")\n",
    "\n",
    "        data = requests.get(team_url)\n",
    "        matches = pd.read_html(data.text, match =\"Scores & Fixtures\")[0]\n",
    "\n",
    "        soup = BeautifulSoup(data.text)\n",
    "        links = [l.get(\"href\") for l in soup.find_all('a')]\n",
    "        links = [l for l in links if l and 'all_comps/shooting/' in l]\n",
    "        data = requests.get(f\"https://fbref.com{links[0]}\")\n",
    "        shooting = pd.read_html(data.text, match=\"Shooting\")[0]\n",
    "        shooting.columns= shooting.columns.droplevel()\n",
    "\n",
    "        try:\n",
    "            team_data = matches.merge(shooting[[\"Date\", \"Sh\", \"SoT\", \"Dist\", \"FK\", \"PK\", \"PKatt\"]], on =\"Date\")\n",
    "        except ValueError:\n",
    "            continue\n",
    "\n",
    "        team_data = team_data[team_data[\"Comp\"] == \"Premier League\"]\n",
    "        team_data[\"Season\"] = year\n",
    "        team_data[\"Team\"] = team_name\n",
    "        all_matches.append(team_data)\n",
    "        time.sleep(1)"
   ]
  },
  {
   "cell_type": "code",
   "execution_count": 42,
   "id": "657c2afe-57ac-417c-b341-6613a0b11bc7",
   "metadata": {},
   "outputs": [],
   "source": [
    "match_df = pd.concat(all_matches)"
   ]
  },
  {
   "cell_type": "code",
   "execution_count": 43,
   "id": "552aecb7-1274-4643-8a77-d45e6462d51a",
   "metadata": {},
   "outputs": [],
   "source": [
    "match_df.columns = [c.lower() for c in match_df.columns]"
   ]
  },
  {
   "cell_type": "code",
   "execution_count": 44,
   "id": "db80dd3a-4efc-41e9-a573-6fb582c5f097",
   "metadata": {},
   "outputs": [],
   "source": [
    "match_df.to_csv(\"matches.csv\")"
   ]
  },
  {
   "cell_type": "code",
   "execution_count": null,
   "id": "d0e91435-0ebf-4327-a656-7ce8517e1e35",
   "metadata": {},
   "outputs": [],
   "source": []
  }
 ],
 "metadata": {
  "kernelspec": {
   "display_name": "Python 3 (ipykernel)",
   "language": "python",
   "name": "python3"
  },
  "language_info": {
   "codemirror_mode": {
    "name": "ipython",
    "version": 3
   },
   "file_extension": ".py",
   "mimetype": "text/x-python",
   "name": "python",
   "nbconvert_exporter": "python",
   "pygments_lexer": "ipython3",
   "version": "3.12.3"
  }
 },
 "nbformat": 4,
 "nbformat_minor": 5
}
